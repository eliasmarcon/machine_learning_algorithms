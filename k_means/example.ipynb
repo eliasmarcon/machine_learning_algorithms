{
 "cells": [
  {
   "cell_type": "code",
   "execution_count": 1,
   "metadata": {},
   "outputs": [],
   "source": [
    "import pandas as pd\n",
    "import numpy as np\n",
    "\n",
    "from kmeans import KMeans"
   ]
  },
  {
   "cell_type": "markdown",
   "metadata": {},
   "source": [
    "# Disclaimer\n",
    "\n",
    "### This is just an example notebook for the self implemented kmeans algorithm. It shows most of the implemented functionality for the kmeans algorithm. "
   ]
  },
  {
   "cell_type": "code",
   "execution_count": 2,
   "metadata": {},
   "outputs": [],
   "source": [
    "def read_present_data(synthetic_data = False):\n",
    "\n",
    "    df_customers = pd.read_csv('../datasets/Mall_Customers.csv') \n",
    "    df_customers.drop(['CustomerID', 'Gender'], axis=1, inplace=True)\n",
    "    \n",
    "    # Additional synthetic columns\n",
    "    df_customers['Number of Purchases'] = np.random.randint(1, 20, size=len(df_customers))\n",
    "    df_customers['Average Purchase Amount'] = np.round(np.random.uniform(10, 1000, size=len(df_customers)), 2)\n",
    "    \n",
    "    if synthetic_data:\n",
    "        synthetic_data_size = 800\n",
    "        # Additional synthetic rows\n",
    "        new_rows = {\n",
    "            'Age': np.random.randint(df_customers['Age'].min(), df_customers['Age'].max(), size=synthetic_data_size),\n",
    "            'Annual Income (k$)': np.random.randint(df_customers['Annual Income (k$)'].min(), df_customers['Annual Income (k$)'].max(), size=synthetic_data_size),\n",
    "            'Spending Score (1-100)': np.random.randint(df_customers['Spending Score (1-100)'].min(), df_customers['Spending Score (1-100)'].max(), size=synthetic_data_size),\n",
    "            'Number of Purchases': np.random.randint(df_customers['Number of Purchases'].min(), df_customers['Number of Purchases'].max(), size=synthetic_data_size),\n",
    "            'Average Purchase Amount': np.random.uniform(df_customers['Average Purchase Amount'].min(), df_customers['Average Purchase Amount'].max(), size=synthetic_data_size),\n",
    "        }\n",
    "        # Concatenate the new data to the existing DataFrame\n",
    "        df_customers = pd.concat([df_customers, pd.DataFrame(new_rows)], ignore_index=True)\n",
    "\n",
    "    return df_customers"
   ]
  },
  {
   "cell_type": "code",
   "execution_count": 3,
   "metadata": {},
   "outputs": [
    {
     "data": {
      "text/html": [
       "<div>\n",
       "<style scoped>\n",
       "    .dataframe tbody tr th:only-of-type {\n",
       "        vertical-align: middle;\n",
       "    }\n",
       "\n",
       "    .dataframe tbody tr th {\n",
       "        vertical-align: top;\n",
       "    }\n",
       "\n",
       "    .dataframe thead th {\n",
       "        text-align: right;\n",
       "    }\n",
       "</style>\n",
       "<table border=\"1\" class=\"dataframe\">\n",
       "  <thead>\n",
       "    <tr style=\"text-align: right;\">\n",
       "      <th></th>\n",
       "      <th>Age</th>\n",
       "      <th>Annual Income (k$)</th>\n",
       "      <th>Spending Score (1-100)</th>\n",
       "      <th>Number of Purchases</th>\n",
       "      <th>Average Purchase Amount</th>\n",
       "    </tr>\n",
       "  </thead>\n",
       "  <tbody>\n",
       "    <tr>\n",
       "      <th>0</th>\n",
       "      <td>19</td>\n",
       "      <td>15</td>\n",
       "      <td>39</td>\n",
       "      <td>15</td>\n",
       "      <td>895.95</td>\n",
       "    </tr>\n",
       "    <tr>\n",
       "      <th>1</th>\n",
       "      <td>21</td>\n",
       "      <td>15</td>\n",
       "      <td>81</td>\n",
       "      <td>14</td>\n",
       "      <td>115.04</td>\n",
       "    </tr>\n",
       "    <tr>\n",
       "      <th>2</th>\n",
       "      <td>20</td>\n",
       "      <td>16</td>\n",
       "      <td>6</td>\n",
       "      <td>13</td>\n",
       "      <td>557.01</td>\n",
       "    </tr>\n",
       "    <tr>\n",
       "      <th>3</th>\n",
       "      <td>23</td>\n",
       "      <td>16</td>\n",
       "      <td>77</td>\n",
       "      <td>17</td>\n",
       "      <td>598.78</td>\n",
       "    </tr>\n",
       "    <tr>\n",
       "      <th>4</th>\n",
       "      <td>31</td>\n",
       "      <td>17</td>\n",
       "      <td>40</td>\n",
       "      <td>9</td>\n",
       "      <td>907.36</td>\n",
       "    </tr>\n",
       "    <tr>\n",
       "      <th>...</th>\n",
       "      <td>...</td>\n",
       "      <td>...</td>\n",
       "      <td>...</td>\n",
       "      <td>...</td>\n",
       "      <td>...</td>\n",
       "    </tr>\n",
       "    <tr>\n",
       "      <th>195</th>\n",
       "      <td>35</td>\n",
       "      <td>120</td>\n",
       "      <td>79</td>\n",
       "      <td>9</td>\n",
       "      <td>622.94</td>\n",
       "    </tr>\n",
       "    <tr>\n",
       "      <th>196</th>\n",
       "      <td>45</td>\n",
       "      <td>126</td>\n",
       "      <td>28</td>\n",
       "      <td>2</td>\n",
       "      <td>840.88</td>\n",
       "    </tr>\n",
       "    <tr>\n",
       "      <th>197</th>\n",
       "      <td>32</td>\n",
       "      <td>126</td>\n",
       "      <td>74</td>\n",
       "      <td>18</td>\n",
       "      <td>282.17</td>\n",
       "    </tr>\n",
       "    <tr>\n",
       "      <th>198</th>\n",
       "      <td>32</td>\n",
       "      <td>137</td>\n",
       "      <td>18</td>\n",
       "      <td>6</td>\n",
       "      <td>216.98</td>\n",
       "    </tr>\n",
       "    <tr>\n",
       "      <th>199</th>\n",
       "      <td>30</td>\n",
       "      <td>137</td>\n",
       "      <td>83</td>\n",
       "      <td>15</td>\n",
       "      <td>713.62</td>\n",
       "    </tr>\n",
       "  </tbody>\n",
       "</table>\n",
       "<p>200 rows × 5 columns</p>\n",
       "</div>"
      ],
      "text/plain": [
       "     Age  Annual Income (k$)  Spending Score (1-100)  Number of Purchases  \\\n",
       "0     19                  15                      39                   15   \n",
       "1     21                  15                      81                   14   \n",
       "2     20                  16                       6                   13   \n",
       "3     23                  16                      77                   17   \n",
       "4     31                  17                      40                    9   \n",
       "..   ...                 ...                     ...                  ...   \n",
       "195   35                 120                      79                    9   \n",
       "196   45                 126                      28                    2   \n",
       "197   32                 126                      74                   18   \n",
       "198   32                 137                      18                    6   \n",
       "199   30                 137                      83                   15   \n",
       "\n",
       "     Average Purchase Amount  \n",
       "0                     895.95  \n",
       "1                     115.04  \n",
       "2                     557.01  \n",
       "3                     598.78  \n",
       "4                     907.36  \n",
       "..                       ...  \n",
       "195                   622.94  \n",
       "196                   840.88  \n",
       "197                   282.17  \n",
       "198                   216.98  \n",
       "199                   713.62  \n",
       "\n",
       "[200 rows x 5 columns]"
      ]
     },
     "execution_count": 3,
     "metadata": {},
     "output_type": "execute_result"
    }
   ],
   "source": [
    "df_customers = read_present_data()\n",
    "df_customers"
   ]
  },
  {
   "cell_type": "markdown",
   "metadata": {},
   "source": [
    "## Cluster Method random initialization"
   ]
  },
  {
   "cell_type": "code",
   "execution_count": 4,
   "metadata": {},
   "outputs": [],
   "source": [
    "kmeans = KMeans(k = 4, max_iter = 10, cluster_method = 'random', distance_metric='euclidean', random_state = 42)\n",
    "kmeans.fit(df_customers, scaling_method='standardization')#, 'Average Purchase Amount', 'Spending Score (1-100)'])\n",
    "kmeans.perform(show_initial_centroids=False, plot_data=False)"
   ]
  },
  {
   "cell_type": "code",
   "execution_count": 5,
   "metadata": {},
   "outputs": [
    {
     "data": {
      "image/png": "[encoded data removed]",
      "text/plain": [
       "<Figure size 800x600 with 1 Axes>"
      ]
     },
     "metadata": {},
     "output_type": "display_data"
    },
    {
     "name": "stdout",
     "output_type": "stream",
     "text": [
      "Cluster Array\n",
      " [0 2 1 1 0 0 1 0 2 0 0 3 3 3 0 0 3 2 2 2 2 1 0 3 2 2 3 1 1 2 3 3 3 3 1 3 2\n",
      " 1 3 0 0 3 2 3 2 2 3 0 3 2 0 2 1 1 1 1 1 3 2 3 1 0 0 3 1 2 2 1 1 2 2 2 2 1\n",
      " 2 1 0 2 1 3 2 2 3 3 2 3 3 1 1 3 3 1 1 2 0 0 0 0 3 3 1 1 3 3 2 2 1 1 3 3 2\n",
      " 2 2 0 2 1 1 3 1 3 3 0 1 2 2 3 3 0 2 3 3 2 1 0 0 1 1 0 0 0 0 1 0 3 3 2 0 0\n",
      " 2 2 0 2 1 0 0 3 3 0 1 1 2 1 2 3 1 3 1 3 0 1 3 2 3 3 0 0 1 3 3 3 0 0 3 3 2\n",
      " 3 2 3 3 2 2 0 3 3 3 1 0 2 2 1] \n",
      "\n",
      "Cluster Centroids\n",
      " [[-0.43079607 -0.32369862 -0.37473645 -0.54178798  3.35222313]\n",
      " [-0.41378569 -0.32794732 -0.37441117 -0.53919019  2.29105525]\n",
      " [-0.42021192 -0.32956843 -0.36663808 -0.54377741  0.01176177]\n",
      " [-0.40823558 -0.30893386 -0.35740955 -0.54448164  1.32798072]]\n"
     ]
    }
   ],
   "source": [
    "print(\"Cluster Array\\n\", kmeans.get_cluster_array(visualize=True), \"\\n\")\n",
    "print(\"Cluster Centroids\\n\", kmeans.get_centroids())"
   ]
  },
  {
   "cell_type": "markdown",
   "metadata": {},
   "source": [
    "## Cluster Method kmeans++"
   ]
  },
  {
   "cell_type": "code",
   "execution_count": 6,
   "metadata": {},
   "outputs": [],
   "source": [
    "kmeans = KMeans(k = 4, max_iter = 10, cluster_method = 'kmeans++', distance_metric='euclidean', random_state = 42)\n",
    "kmeans.fit(df_customers, scaling_method='standardization')#, 'Average Purchase Amount', 'Spending Score (1-100)'])\n",
    "kmeans.perform(show_initial_centroids=False, plot_data=False)"
   ]
  },
  {
   "cell_type": "code",
   "execution_count": 7,
   "metadata": {},
   "outputs": [
    {
     "name": "stdout",
     "output_type": "stream",
     "text": [
      "Cluster Array\n",
      " [0 1 3 3 0 0 3 0 1 0 0 3 2 3 0 0 2 1 1 1 1 3 0 2 1 1 2 3 3 1 2 2 2 3 3 3 1\n",
      " 3 2 0 0 3 1 2 2 2 2 0 2 1 0 1 3 0 0 3 3 2 1 2 3 0 0 2 3 1 1 3 3 1 1 1 1 3\n",
      " 2 3 0 1 3 2 1 1 2 2 1 2 2 3 3 3 2 3 3 1 0 0 0 0 3 3 3 3 2 2 2 1 3 3 3 2 2\n",
      " 1 1 0 2 3 3 3 3 2 2 0 3 1 1 2 2 0 2 3 3 1 0 0 0 3 3 0 0 0 0 3 0 3 2 2 0 0\n",
      " 2 2 0 1 3 0 0 3 2 0 3 3 1 3 2 2 3 3 3 3 0 3 2 1 2 3 0 0 3 2 3 2 0 0 3 3 1\n",
      " 2 1 2 2 1 1 0 3 2 3 3 0 2 1 3] \n",
      "\n",
      "Cluster Centroids\n",
      " [[-0.42825176 -0.32583968 -0.37536919 -0.54091462  3.31525938]\n",
      " [-0.42150142 -0.34398551 -0.36556793 -0.54206916 -0.16488875]\n",
      " [-0.40300608 -0.31416336 -0.37709362 -0.5434093   0.97737442]\n",
      " [-0.4183827  -0.3113294  -0.35539821 -0.54319913  2.07496674]]\n"
     ]
    }
   ],
   "source": [
    "print(\"Cluster Array\\n\", kmeans.get_cluster_array(), \"\\n\")\n",
    "print(\"Cluster Centroids\\n\", kmeans.get_centroids())"
   ]
  },
  {
   "cell_type": "code",
   "execution_count": 8,
   "metadata": {},
   "outputs": [
    {
     "data": {
      "image/png": "[encoded data removed]",
      "text/plain": [
       "<Figure size 1000x800 with 1 Axes>"
      ]
     },
     "metadata": {},
     "output_type": "display_data"
    }
   ],
   "source": [
    "kmeans = KMeans(k = 4, max_iter = 10, cluster_method = 'kmeans++', distance_metric='euclidean', random_state = 42)\n",
    "kmeans.fit(df_customers[['Annual Income (k$)', 'Spending Score (1-100)']], scaling_method='standardization')#, 'Average Purchase Amount', 'Spending Score (1-100)'])\n",
    "kmeans.perform(show_initial_centroids=True, plot_data=True, gif_path='./kmeans.gif')"
   ]
  },
  {
   "cell_type": "code",
   "execution_count": 9,
   "metadata": {},
   "outputs": [
    {
     "data": {
      "application/vnd.plotly.v1+json": {
       "config": {
        "plotlyServerURL": "https://plot.ly"
       },
       "data": [
        {
         "marker": {
          "color": "#3366CC",
          "size": 5
         },
         "mode": "markers",
         "name": "Cluster 0",
         "type": "scatter3d",
         "x": [
          -0.710356800199508,
          -0.7029254009749893,
          -0.7029254009749893,
          -0.6992097013627301,
          -0.6954940017504708,
          -0.6954940017504708,
          -0.6917783021382115,
          -0.6917783021382115,
          -0.673199804076915,
          -0.6286114087298037,
          -0.6248957091175444,
          -0.6174643098930258,
          -0.6100329106685073,
          -0.606317211056248,
          -0.606317211056248,
          -0.5951701122194701,
          -0.5914544126072109,
          -0.5654445153213958,
          -0.5431503176478402,
          -0.5431503176478402,
          -0.5431503176478402,
          -0.5431503176478402,
          -0.528287519198803,
          -0.5171404203620252,
          -0.5022776219129881,
          -0.49856192230072877,
          -0.49856192230072877,
          -0.4948462226884695,
          -0.4948462226884695,
          -0.49113052307621025,
          -0.49113052307621025,
          -0.48741482346395093,
          -0.48369912385169167,
          -0.47998342423943235,
          -0.47998342423943235,
          -0.4762677246271731,
          -0.4762677246271731,
          -0.4762677246271731,
          -0.4762677246271731,
          -0.44282642811683953,
          -0.43911072850458027,
          -0.43911072850458027,
          -0.4056694319942467,
          -0.4056694319942467,
          -0.383375234320691,
          -0.2979141432387275
         ],
         "y": [
          -0.6211800095052852,
          -0.6174643098930258,
          -0.48369912385169167,
          -0.41681653083102455,
          -0.49856192230072877,
          -0.7140724998117672,
          -0.7177881994240265,
          -0.4725520250149138,
          -0.7475137963221008,
          -0.48741482346395093,
          -0.6360428079543222,
          -0.5914544126072109,
          -0.5728759145459145,
          -0.5431503176478402,
          -0.5988858118317294,
          -0.5617288157091366,
          -0.5728759145459145,
          -0.5691602149336552,
          -0.6100329106685073,
          -0.5728759145459145,
          -0.5914544126072109,
          -0.580307313770433,
          -0.5951701122194701,
          -0.6174643098930258,
          -0.4131008312187653,
          -0.6397585075665816,
          -0.5022776219129881,
          -0.7475137963221008,
          -0.4948462226884695,
          -0.7289352982608044,
          -0.49856192230072877,
          -0.7475137963221008,
          -0.6174643098930258,
          -0.632327108342063,
          -0.49113052307621025,
          -0.7029254009749893,
          -0.48369912385169167,
          -0.7066411005872486,
          -0.4762677246271731,
          -0.6657684048523965,
          -0.7177881994240265,
          -0.44654212772909885,
          -0.6471899067911001,
          -0.44654212772909885,
          -0.5097090211375066,
          -0.6620527052401373
         ],
         "z": [
          2.5629887732203076,
          2.605384905796186,
          2.8477971484999816,
          2.2881013159053656,
          2.544670374131869,
          2.6270845915317804,
          2.3895770723161665,
          2.3741940759214133,
          2.696976901238377,
          2.3936271848935293,
          2.7332421294540277,
          2.167675491472042,
          2.3157832780166974,
          2.0573192129879416,
          2.138135679554581,
          2.5324828794036587,
          2.868716537317001,
          2.5688967356037997,
          2.5114520195982712,
          2.933518338554803,
          2.7630048833482244,
          2.671189945929298,
          2.5610194524258096,
          2.3613005982668733,
          2.6326952979462916,
          2.040895820701756,
          2.4268083824310045,
          2.202120026877686,
          2.8414804591591407,
          2.153407204960967,
          2.8009050193932694,
          2.9329981406090866,
          2.5602763125033583,
          2.453598576635394,
          2.742865791449779,
          2.2560348282515683,
          2.6470007414534895,
          2.201636985928092,
          2.340009639488628,
          2.614599840834589,
          2.5986594894979964,
          2.4407794129730993,
          2.822567548132741,
          2.8684192813480203,
          2.7227638565474566,
          2.358365195573189
         ]
        },
        {
         "marker": {
          "color": "#3366CC",
          "line": {
           "color": "black",
           "width": 2
          },
          "size": 8,
          "symbol": "diamond"
         },
         "mode": "markers",
         "name": "Centroid 0",
         "type": "scatter3d",
         "x": [
          -0.5445235109828058
         ],
         "y": [
          -0.586284743581459
         ],
         "z": [
          2.5255005951757523
         ]
        },
        {
         "marker": {
          "color": "#DC3912",
          "size": 5
         },
         "mode": "markers",
         "name": "Cluster 1",
         "type": "scatter3d",
         "x": [
          -0.710356800199508,
          -0.6954940017504708,
          -0.6880626025259522,
          -0.6806312033014337,
          -0.6806312033014337,
          -0.6769155036891744,
          -0.6620527052401373,
          -0.6620527052401373,
          -0.658337005627878,
          -0.6397585075665816,
          -0.6211800095052852,
          -0.6174643098930258,
          -0.6100329106685073,
          -0.5951701122194701,
          -0.5877387129949516,
          -0.5877387129949516,
          -0.5877387129949516,
          -0.5840230133826922,
          -0.5840230133826922,
          -0.580307313770433,
          -0.5654445153213958,
          -0.5654445153213958,
          -0.5654445153213958,
          -0.5654445153213958,
          -0.5431503176478402,
          -0.5357189184233216,
          -0.5320032188110624,
          -0.528287519198803,
          -0.5097090211375066,
          -0.5059933215252473,
          -0.5022776219129881,
          -0.4762677246271731,
          -0.4725520250149138,
          -0.44282642811683953,
          -0.39823803276972813,
          -0.39080663354520956,
          -0.383375234320691,
          -0.383375234320691,
          -0.25704144750387536
         ],
         "y": [
          -0.46512062579039526,
          -0.7549451955466193,
          -0.5208561199742845,
          -0.658337005627878,
          -0.40195373238198745,
          -0.6360428079543222,
          -0.7140724998117672,
          -0.46140492617813594,
          -0.44282642811683953,
          -0.7029254009749893,
          -0.632327108342063,
          -0.6100329106685073,
          -0.5431503176478402,
          -0.5765916141581737,
          -0.5468660172600994,
          -0.580307313770433,
          -0.5914544126072109,
          -0.5617288157091366,
          -0.6100329106685073,
          -0.5840230133826922,
          -0.5877387129949516,
          -0.5765916141581737,
          -0.5617288157091366,
          -0.554297416484618,
          -0.6174643098930258,
          -0.6100329106685073,
          -0.5654445153213958,
          -0.6100329106685073,
          -0.4279636296678024,
          -0.658337005627878,
          -0.48741482346395093,
          -0.43911072850458027,
          -0.6360428079543222,
          -0.48741482346395093,
          -0.6211800095052852,
          -0.6769155036891744,
          -0.4502578273413581,
          -0.6806312033014337,
          -0.6992097013627301
         ],
         "z": [
          -0.3386382109890892,
          -0.300700917947922,
          -0.22356299399741927,
          -0.31407743655205533,
          -0.44431270796174327,
          -0.6905892782622886,
          -0.02886033431503282,
          -0.28189947790989,
          -0.3872395619174407,
          0.05203044624385181,
          -0.5103406900715907,
          -0.5323376317761657,
          -0.4533047010234107,
          -0.6701900873909851,
          -0.6142316512303603,
          -0.28420321166949075,
          -0.6832321930300151,
          -0.6850528858400222,
          -0.2837944847121422,
          -0.14805997787631056,
          -0.7041144248509122,
          0.0004565356256929776,
          -0.6897718243475915,
          -0.033542115826479486,
          -0.7108769981452243,
          -0.2844261536462263,
          -0.40749012480425373,
          -0.5456026793919313,
          -0.5071823454011702,
          0.030776644461728717,
          -0.5138334477071144,
          -0.498450451312361,
          -0.2502788742095635,
          -0.7209093870983243,
          -0.4424920151517362,
          -0.5039125297423821,
          -0.6960513566923097,
          -0.6836780769834863,
          0.04014020748462204
         ]
        },
        {
         "marker": {
          "color": "#DC3912",
          "line": {
           "color": "black",
           "width": 2
          },
          "size": 8,
          "symbol": "diamond"
         },
         "mode": "markers",
         "name": "Centroid 1",
         "type": "scatter3d",
         "x": [
          -0.557734438625958
         ],
         "y": [
          -0.5806788837316588
         ],
         "z": [
          -0.39545683160995215
         ]
        },
        {
         "marker": {
          "color": "#FF9900",
          "size": 5
         },
         "mode": "markers",
         "name": "Cluster 2",
         "type": "scatter3d",
         "x": [
          -0.6917783021382115,
          -0.6880626025259522,
          -0.673199804076915,
          -0.6620527052401373,
          -0.6546213060156186,
          -0.6546213060156186,
          -0.6434742071788409,
          -0.6286114087298037,
          -0.6211800095052852,
          -0.6211800095052852,
          -0.6211800095052852,
          -0.6174643098930258,
          -0.6174643098930258,
          -0.6026015114439887,
          -0.5951701122194701,
          -0.5914544126072109,
          -0.5654445153213958,
          -0.5654445153213958,
          -0.5654445153213958,
          -0.5654445153213958,
          -0.5654445153213958,
          -0.554297416484618,
          -0.5468660172600994,
          -0.5357189184233216,
          -0.5357189184233216,
          -0.5357189184233216,
          -0.5320032188110624,
          -0.5320032188110624,
          -0.5245718195865438,
          -0.5171404203620252,
          -0.5171404203620252,
          -0.5059933215252473,
          -0.5022776219129881,
          -0.5022776219129881,
          -0.47998342423943235,
          -0.47998342423943235,
          -0.4762677246271731,
          -0.4762677246271731,
          -0.4762677246271731,
          -0.46512062579039526,
          -0.46512062579039526,
          -0.44282642811683953,
          -0.44282642811683953,
          -0.43911072850458027,
          -0.42053223044328386,
          -0.39823803276972813,
          -0.39080663354520956,
          -0.383375234320691,
          -0.34621823819809816,
          -0.2979141432387275
         ],
         "y": [
          -0.710356800199508,
          -0.6360428079543222,
          -0.4948462226884695,
          -0.6471899067911001,
          -0.7512294959343601,
          -0.4948462226884695,
          -0.7512294959343601,
          -0.6694841044646558,
          -0.5394346180355809,
          -0.6620527052401373,
          -0.5245718195865438,
          -0.5617288157091366,
          -0.6100329106685073,
          -0.5951701122194701,
          -0.5951701122194701,
          -0.5468660172600994,
          -0.5914544126072109,
          -0.6100329106685073,
          -0.6137486102807665,
          -0.6026015114439887,
          -0.5951701122194701,
          -0.5505817168723588,
          -0.5617288157091366,
          -0.5468660172600994,
          -0.5617288157091366,
          -0.5580131160968773,
          -0.5877387129949516,
          -0.5728759145459145,
          -0.5877387129949516,
          -0.554297416484618,
          -0.5580131160968773,
          -0.47998342423943235,
          -0.6360428079543222,
          -0.725219598648545,
          -0.7215038990362858,
          -0.4056694319942467,
          -0.6843469029136929,
          -0.4316793292800617,
          -0.7623765947711378,
          -0.7475137963221008,
          -0.42053223044328386,
          -0.7177881994240265,
          -0.7289352982608044,
          -0.5097090211375066,
          -0.4316793292800617,
          -0.4056694319942467,
          -0.513424720749766,
          -0.7029254009749893,
          -0.4279636296678024,
          -0.49113052307621025
         ],
         "z": [
          0.6785717148630122,
          0.9472911108216034,
          0.448792850840898,
          0.6845911482348722,
          0.623467889613207,
          0.861644234759027,
          0.7049903391061757,
          1.0192642123110658,
          0.3457936575890707,
          0.1561815063754795,
          0.15053364296484537,
          0.7143910591251916,
          0.7417386082714199,
          0.7549293418949404,
          0.7614318162163942,
          0.3453477736355996,
          0.2844846139867926,
          0.43144053365164725,
          0.37492474254918345,
          0.5332878600236741,
          0.4332612264616541,
          0.49490468302903573,
          0.34609091355805144,
          0.707331229861899,
          1.007931328493675,
          0.14380822666665605,
          0.6000218250598509,
          0.3254316237138898,
          0.22291547141165627,
          0.7971768464863285,
          0.9412716774497434,
          0.9641603870612608,
          0.4913376114012669,
          0.3013538902264496,
          0.8268281293921574,
          0.28489334094414115,
          0.125564141570463,
          0.16792311715021885,
          0.9197949336908848,
          0.24491241311623108,
          0.6295244799811897,
          0.5779505693630308,
          0.5999846680637282,
          0.5618987470380705,
          0.5581830474258113,
          0.5436918189380001,
          0.4824942463240896,
          0.5689585763013633,
          0.9995710043660917,
          0.2823666652078048
         ]
        },
        {
         "marker": {
          "color": "#FF9900",
          "line": {
           "color": "black",
           "width": 2
          },
          "size": 8,
          "symbol": "diamond"
         },
         "mode": "markers",
         "name": "Centroid 2",
         "type": "scatter3d",
         "x": [
          -0.5346785225318891
         ],
         "y": [
          -0.5827596755145241
         ],
         "z": [
          0.572814729358966
         ]
        },
        {
         "marker": {
          "color": "#109618",
          "size": 5
         },
         "mode": "markers",
         "name": "Cluster 3",
         "type": "scatter3d",
         "x": [
          -0.7066411005872486,
          -0.7066411005872486,
          -0.6992097013627301,
          -0.6954940017504708,
          -0.6917783021382115,
          -0.6769155036891744,
          -0.6620527052401373,
          -0.658337005627878,
          -0.6434742071788409,
          -0.6434742071788409,
          -0.6434742071788409,
          -0.6397585075665816,
          -0.6248957091175444,
          -0.606317211056248,
          -0.606317211056248,
          -0.6026015114439887,
          -0.5951701122194701,
          -0.5877387129949516,
          -0.5877387129949516,
          -0.5877387129949516,
          -0.580307313770433,
          -0.5654445153213958,
          -0.5654445153213958,
          -0.554297416484618,
          -0.5505817168723588,
          -0.5505817168723588,
          -0.5468660172600994,
          -0.5431503176478402,
          -0.5394346180355809,
          -0.5394346180355809,
          -0.5357189184233216,
          -0.5357189184233216,
          -0.5320032188110624,
          -0.5320032188110624,
          -0.5320032188110624,
          -0.5245718195865438,
          -0.5245718195865438,
          -0.5245718195865438,
          -0.5171404203620252,
          -0.5097090211375066,
          -0.5022776219129881,
          -0.5022776219129881,
          -0.4948462226884695,
          -0.4948462226884695,
          -0.48741482346395093,
          -0.48369912385169167,
          -0.4762677246271731,
          -0.4762677246271731,
          -0.4762677246271731,
          -0.4762677246271731,
          -0.4725520250149138,
          -0.4502578273413581,
          -0.4502578273413581,
          -0.44654212772909885,
          -0.44654212772909885,
          -0.44282642811683953,
          -0.44282642811683953,
          -0.43911072850458027,
          -0.42053223044328386,
          -0.40195373238198745,
          -0.40195373238198745,
          -0.34621823819809816,
          -0.3202083409122832,
          -0.3202083409122832,
          -0.25704144750387536
         ],
         "y": [
          -0.7437980967098414,
          -0.47998342423943235,
          -0.7437980967098414,
          -0.39823803276972813,
          -0.47998342423943235,
          -0.4948462226884695,
          -0.5394346180355809,
          -0.6509056064033594,
          -0.4242479300555431,
          -0.7140724998117672,
          -0.46512062579039526,
          -0.4948462226884695,
          -0.4242479300555431,
          -0.5654445153213958,
          -0.6137486102807665,
          -0.580307313770433,
          -0.5580131160968773,
          -0.5765916141581737,
          -0.5877387129949516,
          -0.5468660172600994,
          -0.5580131160968773,
          -0.5654445153213958,
          -0.5728759145459145,
          -0.5617288157091366,
          -0.5431503176478402,
          -0.5951701122194701,
          -0.6137486102807665,
          -0.5840230133826922,
          -0.6100329106685073,
          -0.5840230133826922,
          -0.6137486102807665,
          -0.5877387129949516,
          -0.580307313770433,
          -0.5951701122194701,
          -0.606317211056248,
          -0.580307313770433,
          -0.606317211056248,
          -0.5468660172600994,
          -0.606317211056248,
          -0.5505817168723588,
          -0.48741482346395093,
          -0.7326509978730636,
          -0.43911072850458027,
          -0.7400823970975822,
          -0.42053223044328386,
          -0.44282642811683953,
          -0.6917783021382115,
          -0.43539502889232096,
          -0.7623765947711378,
          -0.4948462226884695,
          -0.4576892265658767,
          -0.6694841044646558,
          -0.48741482346395093,
          -0.6917783021382115,
          -0.4131008312187653,
          -0.5320032188110624,
          -0.4242479300555431,
          -0.710356800199508,
          -0.7140724998117672,
          -0.710356800199508,
          -0.43911072850458027,
          -0.7363666974853229,
          -0.7066411005872486,
          -0.4725520250149138,
          -0.4576892265658767
         ],
         "z": [
          1.303589546641146,
          1.4587943194452162,
          1.6621174022280443,
          1.2704455060997932,
          1.0748882355065872,
          1.3907227025486264,
          1.813829417396591,
          1.8895925324905576,
          1.2956379494709112,
          1.7648936535031359,
          1.1853188279829328,
          1.3596222967940161,
          1.251272496100535,
          1.7424136708489675,
          1.4159894599119893,
          1.3220565737140748,
          1.6867896476534459,
          1.6259264880046387,
          1.83961637270567,
          1.7564590153833073,
          1.8483482667944795,
          1.9739017566927206,
          1.4847299027387861,
          1.45626764370888,
          1.9955271284360698,
          1.225188284822475,
          1.9817790398707102,
          1.7608063839296506,
          1.2912534239284454,
          1.0752598054678133,
          1.3174862631909958,
          1.4879254044053292,
          1.8817895633048132,
          1.6106921195943755,
          1.1670747428867398,
          1.8418086354769032,
          1.8077356700324858,
          1.1091098289354955,
          1.6904681902695826,
          1.7646707115264004,
          1.2112544112765027,
          1.222290039124913,
          1.4208570264040492,
          1.6809931562583216,
          1.535672144422861,
          1.1983609336219634,
          1.6066420070170133,
          1.0516651129299668,
          1.5551424103910996,
          1.789900311893641,
          1.403504709214798,
          1.468232196460355,
          1.2046033089705588,
          1.4007550915017262,
          1.117172897094098,
          1.4652967937666699,
          1.266060980557327,
          1.5151986395593122,
          1.095064484401155,
          1.1975434797072662,
          1.1738744731771744,
          1.1770699748437174,
          1.1098901258540697,
          1.5485656220774007,
          1.8855052629170723
         ]
        },
        {
         "marker": {
          "color": "#109618",
          "line": {
           "color": "black",
           "width": 2
          },
          "size": 8,
          "symbol": "diamond"
         },
         "mode": "markers",
         "name": "Centroid 3",
         "type": "scatter3d",
         "x": [
          -0.5331643749398934
         ],
         "y": [
          -0.5715405849977585
         ],
         "z": [
          1.4864257712649436
         ]
        }
       ],
       "layout": {
        "height": 1000,
        "scene": {
         "xaxis": {
          "title": {
           "text": "Annual Income (k$)"
          }
         },
         "yaxis": {
          "title": {
           "text": "Spending Score (1-100)"
          }
         },
         "zaxis": {
          "showticklabels": false,
          "title": {
           "text": "Average Purchase Amount"
          }
         }
        },
        "template": {
         "data": {
          "bar": [
           {
            "error_x": {
             "color": "#2a3f5f"
            },
            "error_y": {
             "color": "#2a3f5f"
            },
            "marker": {
             "line": {
              "color": "#E5ECF6",
              "width": 0.5
             },
             "pattern": {
              "fillmode": "overlay",
              "size": 10,
              "solidity": 0.2
             }
            },
            "type": "bar"
           }
          ],
          "barpolar": [
           {
            "marker": {
             "line": {
              "color": "#E5ECF6",
              "width": 0.5
             },
             "pattern": {
              "fillmode": "overlay",
              "size": 10,
              "solidity": 0.2
             }
            },
            "type": "barpolar"
           }
          ],
          "carpet": [
           {
            "aaxis": {
             "endlinecolor": "#2a3f5f",
             "gridcolor": "white",
             "linecolor": "white",
             "minorgridcolor": "white",
             "startlinecolor": "#2a3f5f"
            },
            "baxis": {
             "endlinecolor": "#2a3f5f",
             "gridcolor": "white",
             "linecolor": "white",
             "minorgridcolor": "white",
             "startlinecolor": "#2a3f5f"
            },
            "type": "carpet"
           }
          ],
          "choropleth": [
           {
            "colorbar": {
             "outlinewidth": 0,
             "ticks": ""
            },
            "type": "choropleth"
           }
          ],
          "contour": [
           {
            "colorbar": {
             "outlinewidth": 0,
             "ticks": ""
            },
            "colorscale": [
             [
              0,
              "#0d0887"
             ],
             [
              0.1111111111111111,
              "#46039f"
             ],
             [
              0.2222222222222222,
              "#7201a8"
             ],
             [
              0.3333333333333333,
              "#9c179e"
             ],
             [
              0.4444444444444444,
              "#bd3786"
             ],
             [
              0.5555555555555556,
              "#d8576b"
             ],
             [
              0.6666666666666666,
              "#ed7953"
             ],
             [
              0.7777777777777778,
              "#fb9f3a"
             ],
             [
              0.8888888888888888,
              "#fdca26"
             ],
             [
              1,
              "#f0f921"
             ]
            ],
            "type": "contour"
           }
          ],
          "contourcarpet": [
           {
            "colorbar": {
             "outlinewidth": 0,
             "ticks": ""
            },
            "type": "contourcarpet"
           }
          ],
          "heatmap": [
           {
            "colorbar": {
             "outlinewidth": 0,
             "ticks": ""
            },
            "colorscale": [
             [
              0,
              "#0d0887"
             ],
             [
              0.1111111111111111,
              "#46039f"
             ],
             [
              0.2222222222222222,
              "#7201a8"
             ],
             [
              0.3333333333333333,
              "#9c179e"
             ],
             [
              0.4444444444444444,
              "#bd3786"
             ],
             [
              0.5555555555555556,
              "#d8576b"
             ],
             [
              0.6666666666666666,
              "#ed7953"
             ],
             [
              0.7777777777777778,
              "#fb9f3a"
             ],
             [
              0.8888888888888888,
              "#fdca26"
             ],
             [
              1,
              "#f0f921"
             ]
            ],
            "type": "heatmap"
           }
          ],
          "heatmapgl": [
           {
            "colorbar": {
             "outlinewidth": 0,
             "ticks": ""
            },
            "colorscale": [
             [
              0,
              "#0d0887"
             ],
             [
              0.1111111111111111,
              "#46039f"
             ],
             [
              0.2222222222222222,
              "#7201a8"
             ],
             [
              0.3333333333333333,
              "#9c179e"
             ],
             [
              0.4444444444444444,
              "#bd3786"
             ],
             [
              0.5555555555555556,
              "#d8576b"
             ],
             [
              0.6666666666666666,
              "#ed7953"
             ],
             [
              0.7777777777777778,
              "#fb9f3a"
             ],
             [
              0.8888888888888888,
              "#fdca26"
             ],
             [
              1,
              "#f0f921"
             ]
            ],
            "type": "heatmapgl"
           }
          ],
          "histogram": [
           {
            "marker": {
             "pattern": {
              "fillmode": "overlay",
              "size": 10,
              "solidity": 0.2
             }
            },
            "type": "histogram"
           }
          ],
          "histogram2d": [
           {
            "colorbar": {
             "outlinewidth": 0,
             "ticks": ""
            },
            "colorscale": [
             [
              0,
              "#0d0887"
             ],
             [
              0.1111111111111111,
              "#46039f"
             ],
             [
              0.2222222222222222,
              "#7201a8"
             ],
             [
              0.3333333333333333,
              "#9c179e"
             ],
             [
              0.4444444444444444,
              "#bd3786"
             ],
             [
              0.5555555555555556,
              "#d8576b"
             ],
             [
              0.6666666666666666,
              "#ed7953"
             ],
             [
              0.7777777777777778,
              "#fb9f3a"
             ],
             [
              0.8888888888888888,
              "#fdca26"
             ],
             [
              1,
              "#f0f921"
             ]
            ],
            "type": "histogram2d"
           }
          ],
          "histogram2dcontour": [
           {
            "colorbar": {
             "outlinewidth": 0,
             "ticks": ""
            },
            "colorscale": [
             [
              0,
              "#0d0887"
             ],
             [
              0.1111111111111111,
              "#46039f"
             ],
             [
              0.2222222222222222,
              "#7201a8"
             ],
             [
              0.3333333333333333,
              "#9c179e"
             ],
             [
              0.4444444444444444,
              "#bd3786"
             ],
             [
              0.5555555555555556,
              "#d8576b"
             ],
             [
              0.6666666666666666,
              "#ed7953"
             ],
             [
              0.7777777777777778,
              "#fb9f3a"
             ],
             [
              0.8888888888888888,
              "#fdca26"
             ],
             [
              1,
              "#f0f921"
             ]
            ],
            "type": "histogram2dcontour"
           }
          ],
          "mesh3d": [
           {
            "colorbar": {
             "outlinewidth": 0,
             "ticks": ""
            },
            "type": "mesh3d"
           }
          ],
          "parcoords": [
           {
            "line": {
             "colorbar": {
              "outlinewidth": 0,
              "ticks": ""
             }
            },
            "type": "parcoords"
           }
          ],
          "pie": [
           {
            "automargin": true,
            "type": "pie"
           }
          ],
          "scatter": [
           {
            "fillpattern": {
             "fillmode": "overlay",
             "size": 10,
             "solidity": 0.2
            },
            "type": "scatter"
           }
          ],
          "scatter3d": [
           {
            "line": {
             "colorbar": {
              "outlinewidth": 0,
              "ticks": ""
             }
            },
            "marker": {
             "colorbar": {
              "outlinewidth": 0,
              "ticks": ""
             }
            },
            "type": "scatter3d"
           }
          ],
          "scattercarpet": [
           {
            "marker": {
             "colorbar": {
              "outlinewidth": 0,
              "ticks": ""
             }
            },
            "type": "scattercarpet"
           }
          ],
          "scattergeo": [
           {
            "marker": {
             "colorbar": {
              "outlinewidth": 0,
              "ticks": ""
             }
            },
            "type": "scattergeo"
           }
          ],
          "scattergl": [
           {
            "marker": {
             "colorbar": {
              "outlinewidth": 0,
              "ticks": ""
             }
            },
            "type": "scattergl"
           }
          ],
          "scattermapbox": [
           {
            "marker": {
             "colorbar": {
              "outlinewidth": 0,
              "ticks": ""
             }
            },
            "type": "scattermapbox"
           }
          ],
          "scatterpolar": [
           {
            "marker": {
             "colorbar": {
              "outlinewidth": 0,
              "ticks": ""
             }
            },
            "type": "scatterpolar"
           }
          ],
          "scatterpolargl": [
           {
            "marker": {
             "colorbar": {
              "outlinewidth": 0,
              "ticks": ""
             }
            },
            "type": "scatterpolargl"
           }
          ],
          "scatterternary": [
           {
            "marker": {
             "colorbar": {
              "outlinewidth": 0,
              "ticks": ""
             }
            },
            "type": "scatterternary"
           }
          ],
          "surface": [
           {
            "colorbar": {
             "outlinewidth": 0,
             "ticks": ""
            },
            "colorscale": [
             [
              0,
              "#0d0887"
             ],
             [
              0.1111111111111111,
              "#46039f"
             ],
             [
              0.2222222222222222,
              "#7201a8"
             ],
             [
              0.3333333333333333,
              "#9c179e"
             ],
             [
              0.4444444444444444,
              "#bd3786"
             ],
             [
              0.5555555555555556,
              "#d8576b"
             ],
             [
              0.6666666666666666,
              "#ed7953"
             ],
             [
              0.7777777777777778,
              "#fb9f3a"
             ],
             [
              0.8888888888888888,
              "#fdca26"
             ],
             [
              1,
              "#f0f921"
             ]
            ],
            "type": "surface"
           }
          ],
          "table": [
           {
            "cells": {
             "fill": {
              "color": "#EBF0F8"
             },
             "line": {
              "color": "white"
             }
            },
            "header": {
             "fill": {
              "color": "#C8D4E3"
             },
             "line": {
              "color": "white"
             }
            },
            "type": "table"
           }
          ]
         },
         "layout": {
          "annotationdefaults": {
           "arrowcolor": "#2a3f5f",
           "arrowhead": 0,
           "arrowwidth": 1
          },
          "autotypenumbers": "strict",
          "coloraxis": {
           "colorbar": {
            "outlinewidth": 0,
            "ticks": ""
           }
          },
          "colorscale": {
           "diverging": [
            [
             0,
             "#8e0152"
            ],
            [
             0.1,
             "#c51b7d"
            ],
            [
             0.2,
             "#de77ae"
            ],
            [
             0.3,
             "#f1b6da"
            ],
            [
             0.4,
             "#fde0ef"
            ],
            [
             0.5,
             "#f7f7f7"
            ],
            [
             0.6,
             "#e6f5d0"
            ],
            [
             0.7,
             "#b8e186"
            ],
            [
             0.8,
             "#7fbc41"
            ],
            [
             0.9,
             "#4d9221"
            ],
            [
             1,
             "#276419"
            ]
           ],
           "sequential": [
            [
             0,
             "#0d0887"
            ],
            [
             0.1111111111111111,
             "#46039f"
            ],
            [
             0.2222222222222222,
             "#7201a8"
            ],
            [
             0.3333333333333333,
             "#9c179e"
            ],
            [
             0.4444444444444444,
             "#bd3786"
            ],
            [
             0.5555555555555556,
             "#d8576b"
            ],
            [
             0.6666666666666666,
             "#ed7953"
            ],
            [
             0.7777777777777778,
             "#fb9f3a"
            ],
            [
             0.8888888888888888,
             "#fdca26"
            ],
            [
             1,
             "#f0f921"
            ]
           ],
           "sequentialminus": [
            [
             0,
             "#0d0887"
            ],
            [
             0.1111111111111111,
             "#46039f"
            ],
            [
             0.2222222222222222,
             "#7201a8"
            ],
            [
             0.3333333333333333,
             "#9c179e"
            ],
            [
             0.4444444444444444,
             "#bd3786"
            ],
            [
             0.5555555555555556,
             "#d8576b"
            ],
            [
             0.6666666666666666,
             "#ed7953"
            ],
            [
             0.7777777777777778,
             "#fb9f3a"
            ],
            [
             0.8888888888888888,
             "#fdca26"
            ],
            [
             1,
             "#f0f921"
            ]
           ]
          },
          "colorway": [
           "#636efa",
           "#EF553B",
           "#00cc96",
           "#ab63fa",
           "#FFA15A",
           "#19d3f3",
           "#FF6692",
           "#B6E880",
           "#FF97FF",
           "#FECB52"
          ],
          "font": {
           "color": "#2a3f5f"
          },
          "geo": {
           "bgcolor": "white",
           "lakecolor": "white",
           "landcolor": "#E5ECF6",
           "showlakes": true,
           "showland": true,
           "subunitcolor": "white"
          },
          "hoverlabel": {
           "align": "left"
          },
          "hovermode": "closest",
          "mapbox": {
           "style": "light"
          },
          "paper_bgcolor": "white",
          "plot_bgcolor": "#E5ECF6",
          "polar": {
           "angularaxis": {
            "gridcolor": "white",
            "linecolor": "white",
            "ticks": ""
           },
           "bgcolor": "#E5ECF6",
           "radialaxis": {
            "gridcolor": "white",
            "linecolor": "white",
            "ticks": ""
           }
          },
          "scene": {
           "xaxis": {
            "backgroundcolor": "#E5ECF6",
            "gridcolor": "white",
            "gridwidth": 2,
            "linecolor": "white",
            "showbackground": true,
            "ticks": "",
            "zerolinecolor": "white"
           },
           "yaxis": {
            "backgroundcolor": "#E5ECF6",
            "gridcolor": "white",
            "gridwidth": 2,
            "linecolor": "white",
            "showbackground": true,
            "ticks": "",
            "zerolinecolor": "white"
           },
           "zaxis": {
            "backgroundcolor": "#E5ECF6",
            "gridcolor": "white",
            "gridwidth": 2,
            "linecolor": "white",
            "showbackground": true,
            "ticks": "",
            "zerolinecolor": "white"
           }
          },
          "shapedefaults": {
           "line": {
            "color": "#2a3f5f"
           }
          },
          "ternary": {
           "aaxis": {
            "gridcolor": "white",
            "linecolor": "white",
            "ticks": ""
           },
           "baxis": {
            "gridcolor": "white",
            "linecolor": "white",
            "ticks": ""
           },
           "bgcolor": "#E5ECF6",
           "caxis": {
            "gridcolor": "white",
            "linecolor": "white",
            "ticks": ""
           }
          },
          "title": {
           "x": 0.05
          },
          "xaxis": {
           "automargin": true,
           "gridcolor": "white",
           "linecolor": "white",
           "ticks": "",
           "title": {
            "standoff": 15
           },
           "zerolinecolor": "white",
           "zerolinewidth": 2
          },
          "yaxis": {
           "automargin": true,
           "gridcolor": "white",
           "linecolor": "white",
           "ticks": "",
           "title": {
            "standoff": 15
           },
           "zerolinecolor": "white",
           "zerolinewidth": 2
          }
         }
        },
        "title": {
         "text": "Current State Iteration: 10"
        },
        "width": 1200
       }
      }
     },
     "metadata": {},
     "output_type": "display_data"
    }
   ],
   "source": [
    "kmeans = KMeans(k = 4, max_iter = 10, cluster_method = 'kmeans++', distance_metric='euclidean', random_state = 42)\n",
    "kmeans.fit(df_customers[['Annual Income (k$)', 'Spending Score (1-100)', 'Average Purchase Amount']], scaling_method='standardization')#, 'Average Purchase Amount', 'Spending Score (1-100)'])\n",
    "kmeans.perform(show_initial_centroids=True, plot_data=True)"
   ]
  }
 ],
 "metadata": {
  "kernelspec": {
   "display_name": "Python 3",
   "language": "python",
   "name": "python3"
  },
  "language_info": {
   "codemirror_mode": {
    "name": "ipython",
    "version": 3
   },
   "file_extension": ".py",
   "mimetype": "text/x-python",
   "name": "python",
   "nbconvert_exporter": "python",
   "pygments_lexer": "ipython3",
   "version": "3.11.4"
  }
 },
 "nbformat": 4,
 "nbformat_minor": 2
}
