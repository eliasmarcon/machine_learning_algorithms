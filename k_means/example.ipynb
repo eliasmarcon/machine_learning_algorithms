{
 "cells": [
  {
   "cell_type": "code",
   "execution_count": 1,
   "metadata": {},
   "outputs": [],
   "source": [
    "import pandas as pd\n",
    "import numpy as np\n",
    "import matplotlib.pyplot as plt\n",
    "import seaborn as sns\n",
    "\n",
    "from kmeans import KMeans"
   ]
  },
  {
   "cell_type": "code",
   "execution_count": 2,
   "metadata": {},
   "outputs": [],
   "source": [
    "def read_present_data(synthetic_data = False):\n",
    "\n",
    "    df_customers = pd.read_csv('../datasets/Mall_Customers.csv') \n",
    "    df_customers.drop(['CustomerID', 'Gender'], axis=1, inplace=True)\n",
    "    \n",
    "    # Additional synthetic columns\n",
    "    df_customers['Number of Purchases'] = np.random.randint(1, 20, size=len(df_customers))\n",
    "    df_customers['Average Purchase Amount'] = np.round(np.random.uniform(10, 1000, size=len(df_customers)), 2)\n",
    "    \n",
    "    if synthetic_data:\n",
    "        synthetic_data_size = 800\n",
    "        # Additional synthetic rows\n",
    "        new_rows = {\n",
    "            'Age': np.random.randint(df_customers['Age'].min(), df_customers['Age'].max(), size=synthetic_data_size),\n",
    "            'Annual Income (k$)': np.random.randint(df_customers['Annual Income (k$)'].min(), df_customers['Annual Income (k$)'].max(), size=synthetic_data_size),\n",
    "            'Spending Score (1-100)': np.random.randint(df_customers['Spending Score (1-100)'].min(), df_customers['Spending Score (1-100)'].max(), size=synthetic_data_size),\n",
    "            'Number of Purchases': np.random.randint(df_customers['Number of Purchases'].min(), df_customers['Number of Purchases'].max(), size=synthetic_data_size),\n",
    "            'Average Purchase Amount': np.random.uniform(df_customers['Average Purchase Amount'].min(), df_customers['Average Purchase Amount'].max(), size=synthetic_data_size),\n",
    "        }\n",
    "        # Concatenate the new data to the existing DataFrame\n",
    "        df_customers = pd.concat([df_customers, pd.DataFrame(new_rows)], ignore_index=True)\n",
    "\n",
    "    return df_customers\n"
   ]
  },
  {
   "cell_type": "code",
   "execution_count": 3,
   "metadata": {},
   "outputs": [
    {
     "data": {
      "text/html": [
       "<div>\n",
       "<style scoped>\n",
       "    .dataframe tbody tr th:only-of-type {\n",
       "        vertical-align: middle;\n",
       "    }\n",
       "\n",
       "    .dataframe tbody tr th {\n",
       "        vertical-align: top;\n",
       "    }\n",
       "\n",
       "    .dataframe thead th {\n",
       "        text-align: right;\n",
       "    }\n",
       "</style>\n",
       "<table border=\"1\" class=\"dataframe\">\n",
       "  <thead>\n",
       "    <tr style=\"text-align: right;\">\n",
       "      <th></th>\n",
       "      <th>Age</th>\n",
       "      <th>Annual Income (k$)</th>\n",
       "      <th>Spending Score (1-100)</th>\n",
       "      <th>Number of Purchases</th>\n",
       "      <th>Average Purchase Amount</th>\n",
       "    </tr>\n",
       "  </thead>\n",
       "  <tbody>\n",
       "    <tr>\n",
       "      <th>0</th>\n",
       "      <td>19</td>\n",
       "      <td>15</td>\n",
       "      <td>39</td>\n",
       "      <td>10</td>\n",
       "      <td>675.21</td>\n",
       "    </tr>\n",
       "    <tr>\n",
       "      <th>1</th>\n",
       "      <td>21</td>\n",
       "      <td>15</td>\n",
       "      <td>81</td>\n",
       "      <td>5</td>\n",
       "      <td>934.51</td>\n",
       "    </tr>\n",
       "    <tr>\n",
       "      <th>2</th>\n",
       "      <td>20</td>\n",
       "      <td>16</td>\n",
       "      <td>6</td>\n",
       "      <td>16</td>\n",
       "      <td>563.31</td>\n",
       "    </tr>\n",
       "    <tr>\n",
       "      <th>3</th>\n",
       "      <td>23</td>\n",
       "      <td>16</td>\n",
       "      <td>77</td>\n",
       "      <td>1</td>\n",
       "      <td>675.72</td>\n",
       "    </tr>\n",
       "    <tr>\n",
       "      <th>4</th>\n",
       "      <td>31</td>\n",
       "      <td>17</td>\n",
       "      <td>40</td>\n",
       "      <td>18</td>\n",
       "      <td>86.28</td>\n",
       "    </tr>\n",
       "    <tr>\n",
       "      <th>...</th>\n",
       "      <td>...</td>\n",
       "      <td>...</td>\n",
       "      <td>...</td>\n",
       "      <td>...</td>\n",
       "      <td>...</td>\n",
       "    </tr>\n",
       "    <tr>\n",
       "      <th>195</th>\n",
       "      <td>35</td>\n",
       "      <td>120</td>\n",
       "      <td>79</td>\n",
       "      <td>7</td>\n",
       "      <td>134.99</td>\n",
       "    </tr>\n",
       "    <tr>\n",
       "      <th>196</th>\n",
       "      <td>45</td>\n",
       "      <td>126</td>\n",
       "      <td>28</td>\n",
       "      <td>10</td>\n",
       "      <td>161.66</td>\n",
       "    </tr>\n",
       "    <tr>\n",
       "      <th>197</th>\n",
       "      <td>32</td>\n",
       "      <td>126</td>\n",
       "      <td>74</td>\n",
       "      <td>9</td>\n",
       "      <td>350.37</td>\n",
       "    </tr>\n",
       "    <tr>\n",
       "      <th>198</th>\n",
       "      <td>32</td>\n",
       "      <td>137</td>\n",
       "      <td>18</td>\n",
       "      <td>17</td>\n",
       "      <td>18.38</td>\n",
       "    </tr>\n",
       "    <tr>\n",
       "      <th>199</th>\n",
       "      <td>30</td>\n",
       "      <td>137</td>\n",
       "      <td>83</td>\n",
       "      <td>12</td>\n",
       "      <td>140.76</td>\n",
       "    </tr>\n",
       "  </tbody>\n",
       "</table>\n",
       "<p>200 rows × 5 columns</p>\n",
       "</div>"
      ],
      "text/plain": [
       "     Age  Annual Income (k$)  Spending Score (1-100)  Number of Purchases  \\\n",
       "0     19                  15                      39                   10   \n",
       "1     21                  15                      81                    5   \n",
       "2     20                  16                       6                   16   \n",
       "3     23                  16                      77                    1   \n",
       "4     31                  17                      40                   18   \n",
       "..   ...                 ...                     ...                  ...   \n",
       "195   35                 120                      79                    7   \n",
       "196   45                 126                      28                   10   \n",
       "197   32                 126                      74                    9   \n",
       "198   32                 137                      18                   17   \n",
       "199   30                 137                      83                   12   \n",
       "\n",
       "     Average Purchase Amount  \n",
       "0                     675.21  \n",
       "1                     934.51  \n",
       "2                     563.31  \n",
       "3                     675.72  \n",
       "4                      86.28  \n",
       "..                       ...  \n",
       "195                   134.99  \n",
       "196                   161.66  \n",
       "197                   350.37  \n",
       "198                    18.38  \n",
       "199                   140.76  \n",
       "\n",
       "[200 rows x 5 columns]"
      ]
     },
     "execution_count": 3,
     "metadata": {},
     "output_type": "execute_result"
    }
   ],
   "source": [
    "df_customers = read_present_data()\n",
    "df_customers"
   ]
  },
  {
   "cell_type": "code",
   "execution_count": 4,
   "metadata": {},
   "outputs": [
    {
     "data": {
      "image/png": "[encoded data removed]",
      "text/plain": [
       "<Figure size 640x480 with 1 Axes>"
      ]
     },
     "metadata": {},
     "output_type": "display_data"
    },
    {
     "name": "stdout",
     "output_type": "stream",
     "text": [
      "Cluster Array\n",
      " [3 1 3 3 0 2 2 0 1 0 3 3 0 2 3 1 1 0 0 0 0 1 1 3 2 2 3 0 1 1 2 2 1 1 0 1 3\n",
      " 1 2 0 1 3 2 2 0 1 2 2 3 2 2 0 2 2 1 0 2 2 3 2 2 2 2 3 2 2 0 1 2 2 3 3 3 0\n",
      " 1 2 2 2 0 0 0 2 0 2 3 3 1 0 2 1 2 1 2 0 3 2 0 0 2 3 2 2 1 1 2 1 1 1 0 2 0\n",
      " 2 2 1 3 0 3 1 0 2 3 2 2 2 1 0 3 3 0 2 2 2 1 0 3 0 2 0 3 3 0 3 0 1 1 1 1 3\n",
      " 0 0 3 1 3 2 3 2 2 3 3 1 2 3 3 2 2 3 3 1 3 0 1 0 3 0 2 3 2 0 3 1 3 3 2 2 1\n",
      " 3 1 3 3 1 3 3 0 1 0 0 0 2 0 0] \n",
      "\n",
      "Cluster Centroids\n",
      " [[-0.41390181 -0.30237297 -0.35729771 -0.54676831  0.0090276 ]\n",
      " [-0.41653138 -0.32555228 -0.34323959 -0.5443222   3.40059239]\n",
      " [-0.40336739 -0.33045073 -0.36500622 -0.54326386  1.1001064 ]\n",
      " [-0.42812099 -0.2951478  -0.37890605 -0.54530826  2.33573988]]\n"
     ]
    }
   ],
   "source": [
    "kmeans = KMeans(k = 4, max_iter = 10, cluster_method = 'random', distance_metric='euclidean', random_state = 42)\n",
    "kmeans.fit(df_customers, scaling_method='standardization')#, 'Average Purchase Amount', 'Spending Score (1-100)'])\n",
    "kmeans.perform(show_initial_centroids=False, plot_data=False)\n",
    "\n",
    "print(\"Cluster Array\\n\", kmeans.get_cluster_array(visualize=True), \"\\n\")\n",
    "print(\"Cluster Centroids\\n\", kmeans.get_centroids())"
   ]
  },
  {
   "cell_type": "code",
   "execution_count": 5,
   "metadata": {},
   "outputs": [
    {
     "name": "stdout",
     "output_type": "stream",
     "text": [
      "Cluster Array\n",
      " [3 1 3 3 2 0 0 2 1 2 3 3 0 0 3 1 1 2 2 2 2 1 1 3 0 0 3 2 1 1 0 0 1 1 2 1 3\n",
      " 1 0 2 1 3 0 0 2 1 0 0 3 0 0 2 0 0 1 2 0 0 3 0 0 0 0 3 0 0 2 1 0 0 3 3 3 2\n",
      " 1 0 0 0 2 2 2 0 2 0 3 3 1 2 0 1 0 1 0 2 3 0 2 0 0 3 0 0 1 1 0 1 1 1 2 0 2\n",
      " 0 0 1 3 2 3 1 2 0 3 0 0 0 1 2 3 3 2 0 0 0 1 0 3 2 0 2 3 3 2 3 2 1 1 1 1 3\n",
      " 2 2 3 1 3 0 3 0 0 3 3 1 0 3 3 0 0 3 3 1 3 2 1 2 3 2 0 3 0 2 3 1 3 3 0 0 1\n",
      " 3 1 3 3 1 3 3 2 1 2 2 2 0 2 2] \n",
      "\n",
      "Cluster Centroids\n",
      " [[-0.40394299 -0.33183266 -0.3659291  -0.54301292  1.0738988 ]\n",
      " [-0.41653138 -0.32555228 -0.34323959 -0.5443222   3.40059239]\n",
      " [-0.41378282 -0.29844849 -0.35542977 -0.54737225 -0.02724399]\n",
      " [-0.42812099 -0.2951478  -0.37890605 -0.54530826  2.33573988]]\n"
     ]
    }
   ],
   "source": [
    "kmeans = KMeans(k = 4, max_iter = 10, cluster_method = 'kmeans++', distance_metric='euclidean', random_state = 42)\n",
    "kmeans.fit(df_customers, scaling_method='standardization')#, 'Average Purchase Amount', 'Spending Score (1-100)'])\n",
    "kmeans.perform(show_initial_centroids=False, plot_data=False)\n",
    "\n",
    "print(\"Cluster Array\\n\", kmeans.get_cluster_array(), \"\\n\")\n",
    "print(\"Cluster Centroids\\n\", kmeans.get_centroids())"
   ]
  },
  {
   "cell_type": "code",
   "execution_count": 6,
   "metadata": {},
   "outputs": [
    {
     "data": {
      "image/png": "[encoded data removed]",
      "text/plain": [
       "<Figure size 1000x800 with 1 Axes>"
      ]
     },
     "metadata": {},
     "output_type": "display_data"
    }
   ],
   "source": [
    "kmeans = KMeans(k = 4, max_iter = 10, cluster_method = 'kmeans++', distance_metric='euclidean', random_state = 42)\n",
    "kmeans.fit(df_customers[['Annual Income (k$)', 'Spending Score (1-100)']], scaling_method='standardization')#, 'Average Purchase Amount', 'Spending Score (1-100)'])\n",
    "kmeans.perform(show_initial_centroids=True, plot_data=True)"
   ]
  },
  {
   "cell_type": "code",
   "execution_count": 7,
   "metadata": {},
   "outputs": [
    {
     "data": {
      "application/vnd.plotly.v1+json": {
       "config": {
        "plotlyServerURL": "https://plot.ly"
       },
       "data": [
        {
         "marker": {
          "color": "#3366CC",
          "size": 5
         },
         "mode": "markers",
         "name": "Cluster 0",
         "type": "scatter3d",
         "x": [
          -0.70502476747691,
          -0.7011097920141873,
          -0.6932798410887419,
          -0.6932798410887419,
          -0.6619600373869603,
          -0.6619600373869603,
          -0.6541300864615149,
          -0.6541300864615149,
          -0.626725258222456,
          -0.6188953072970106,
          -0.6188953072970106,
          -0.6149803318342879,
          -0.6149803318342879,
          -0.6149803318342879,
          -0.6071503809088424,
          -0.6032354054461198,
          -0.6032354054461198,
          -0.5993204299833971,
          -0.5993204299833971,
          -0.5914904790579517,
          -0.5914904790579517,
          -0.5914904790579517,
          -0.587575503595229,
          -0.5836605281325062,
          -0.5836605281325062,
          -0.5836605281325062,
          -0.5836605281325062,
          -0.56017067535617,
          -0.56017067535617,
          -0.56017067535617,
          -0.56017067535617,
          -0.56017067535617,
          -0.5445107735052793,
          -0.5405957980425565,
          -0.5366808225798338,
          -0.5366808225798338,
          -0.5366808225798338,
          -0.5327658471171112,
          -0.5288508716543885,
          -0.5288508716543885,
          -0.5288508716543885,
          -0.5249358961916658,
          -0.5249358961916658,
          -0.521020920728943,
          -0.509275994340775,
          -0.509275994340775,
          -0.5014460434153296,
          -0.5014460434153296,
          -0.49361609248988414,
          -0.49361609248988414,
          -0.49361609248988414,
          -0.48970111702716146,
          -0.4857861415644388,
          -0.46621126425082526,
          -0.46621126425082526,
          -0.46621126425082526,
          -0.4622962887881026,
          -0.45446633786265717,
          -0.43880643601176633,
          -0.42706150962359823,
          -0.42706150962359823,
          -0.38791175499637126,
          -0.38791175499637126,
          -0.27829244204013565
         ],
         "y": [
          -0.4740412151762707,
          -0.7480894975668597,
          -0.7128547184023554,
          -0.47012623971354794,
          -0.716769693865078,
          -0.4505513623999345,
          -0.7559194484923051,
          -0.4857861415644388,
          -0.6697899883124057,
          -0.6306402336851786,
          -0.5327658471171112,
          -0.5562556998934474,
          -0.587575503595229,
          -0.6071503809088424,
          -0.5680006262816155,
          -0.56017067535617,
          -0.5366808225798338,
          -0.5758305772070609,
          -0.5914904790579517,
          -0.5914904790579517,
          -0.5523407244307247,
          -0.5562556998934474,
          -0.5680006262816155,
          -0.5719156017443382,
          -0.5405957980425565,
          -0.5405957980425565,
          -0.587575503595229,
          -0.56017067535617,
          -0.5640856508188927,
          -0.5836605281325062,
          -0.5562556998934474,
          -0.5993204299833971,
          -0.5366808225798338,
          -0.5562556998934474,
          -0.5797455526697836,
          -0.5680006262816155,
          -0.5758305772070609,
          -0.6071503809088424,
          -0.6110653563715652,
          -0.5836605281325062,
          -0.5523407244307247,
          -0.5836605281325062,
          -0.56017067535617,
          -0.6071503809088424,
          -0.548425748968002,
          -0.6149803318342879,
          -0.5445107735052793,
          -0.41531658323543014,
          -0.47795619063899336,
          -0.7363445711786916,
          -0.47795619063899336,
          -0.49361609248988414,
          -0.744174522104137,
          -0.4740412151762707,
          -0.42314653416087555,
          -0.7676643748804732,
          -0.6345552091479014,
          -0.4074866323099848,
          -0.6697899883124057,
          -0.7206846693278008,
          -0.7128547184023554,
          -0.7128547184023554,
          -0.42706150962359823,
          -0.48187116610171604
         ],
         "z": [
          0.23609618400699994,
          0.6457592164263033,
          0.17420042194135413,
          1.1395159217848905,
          0.5331645221183984,
          0.8508256311637186,
          0.7530686938595326,
          0.7130184948758793,
          0.8764295706899249,
          0.9070838285630435,
          0.41238752909340326,
          0.3452456999077088,
          1.0028049786266138,
          0.6659213400593254,
          0.9932524384975704,
          0.22681769216034722,
          1.0703383053585804,
          0.6480299021946826,
          0.4496580954985233,
          0.30672234135451754,
          0.6054741189148868,
          0.6385165118202664,
          0.2873432128140402,
          0.2603690318758806,
          0.45294667488721024,
          0.8582640845428916,
          0.8527439691404525,
          0.685535367127566,
          0.4635562583911889,
          0.8247518945819853,
          0.3028856654010492,
          0.8610045673667974,
          1.0398014967493432,
          0.48422732883436465,
          0.31302545184950115,
          0.730909932740522,
          0.18966457501910877,
          0.21785239835071216,
          0.6183152384326172,
          0.7591369058267529,
          0.3255142235755865,
          0.24799770941367702,
          0.8602215722742529,
          0.9989291529185182,
          0.49150918319502895,
          0.5325381260443629,
          0.9053220896048183,
          0.8908758301473716,
          0.4483661535958249,
          1.0944937039635794,
          0.9294383384551903,
          0.19553703821319282,
          0.5409944730438438,
          0.6927780717336031,
          0.8440527236132082,
          0.6510444333009789,
          0.7165419727923299,
          0.9899247093542559,
          0.433058599536579,
          1.144253042094785,
          1.1326255649704984,
          0.2912190385221357,
          0.3375723480007724,
          0.6001106025309567
         ]
        },
        {
         "marker": {
          "color": "#3366CC",
          "line": {
           "color": "black",
           "width": 2
          },
          "size": 8,
          "symbol": "diamond"
         },
         "mode": "markers",
         "name": "Centroid 0",
         "type": "scatter3d",
         "x": [
          -0.5495268358168924
         ],
         "y": [
          -0.5782774368712624
         ],
         "z": [
          0.635806003027247
         ]
        },
        {
         "marker": {
          "color": "#DC3912",
          "size": 5
         },
         "mode": "markers",
         "name": "Cluster 1",
         "type": "scatter3d",
         "x": [
          -0.7128547184023554,
          -0.6971948165514646,
          -0.6932798410887419,
          -0.6893648656260192,
          -0.6776199392378511,
          -0.6737049637751283,
          -0.6580450619242376,
          -0.6580450619242376,
          -0.6423851600733468,
          -0.6423851600733468,
          -0.6423851600733468,
          -0.6384701846106241,
          -0.6228102827597333,
          -0.6188953072970106,
          -0.6032354054461198,
          -0.5836605281325062,
          -0.56017067535617,
          -0.548425748968002,
          -0.5445107735052793,
          -0.5405957980425565,
          -0.5288508716543885,
          -0.5288508716543885,
          -0.5288508716543885,
          -0.5249358961916658,
          -0.5249358961916658,
          -0.521020920728943,
          -0.5171059452662203,
          -0.4975310679526069,
          -0.48970111702716146,
          -0.4740412151762707,
          -0.47012623971354794,
          -0.47012623971354794,
          -0.47012623971354794,
          -0.46621126425082526,
          -0.46621126425082526,
          -0.43489146054904365,
          -0.43097648508632097,
          -0.4074866323099848,
          -0.3839967795336485,
          -0.37616682860820316,
          -0.36833687768275775,
          -0.3291871230555307
         ],
         "y": [
          -0.45446633786265717,
          -0.7598344239550278,
          -0.4622962887881026,
          -0.6345552091479014,
          -0.4857861415644388,
          -0.7520044730295824,
          -0.6502151109987921,
          -0.43097648508632097,
          -0.7559194484923051,
          -0.41140160777270746,
          -0.45446633786265717,
          -0.4857861415644388,
          -0.6345552091479014,
          -0.5171059452662203,
          -0.5954054545206744,
          -0.5836605281325062,
          -0.587575503595229,
          -0.5445107735052793,
          -0.5914904790579517,
          -0.6110653563715652,
          -0.5405957980425565,
          -0.5562556998934474,
          -0.6071503809088424,
          -0.5758305772070609,
          -0.5914904790579517,
          -0.5914904790579517,
          -0.5405957980425565,
          -0.6580450619242376,
          -0.6384701846106241,
          -0.43097648508632097,
          -0.7245996447905235,
          -0.39182673045909394,
          -0.6306402336851786,
          -0.42706150962359823,
          -0.4857861415644388,
          -0.39965668138453936,
          -0.7206846693278008,
          -0.4192315586981529,
          -0.6188953072970106,
          -0.6776199392378511,
          -0.43880643601176633,
          -0.41531658323543014
         ],
         "z": [
          2.887004369325795,
          2.8919763881634526,
          2.646546576405367,
          3.0040229859065763,
          2.7501759769036367,
          2.313421314282292,
          2.173852439036228,
          2.1776891149896964,
          2.533677833815071,
          2.2104574596126856,
          2.1905302345074267,
          2.8597169903506177,
          2.7408974850569843,
          2.866254999373365,
          2.6896113064953164,
          2.451032701796995,
          3.0933235762112816,
          2.6910206976618967,
          3.0228931676369,
          2.9306954954897804,
          2.447352624862036,
          2.7365127125387345,
          2.658957048622198,
          2.6708585740288746,
          2.315261352749772,
          2.343997272646156,
          2.4788290275823264,
          2.6339403554153997,
          2.228544646250464,
          2.9981505227124923,
          2.2801831726037762,
          2.768811260106197,
          2.307705450106717,
          2.2478454752816868,
          3.131729485500591,
          2.641926905359354,
          2.4407754660846614,
          2.415876222141745,
          2.529841157861603,
          2.477106438378728,
          2.467514748495058,
          2.7571837829819104
         ]
        },
        {
         "marker": {
          "color": "#DC3912",
          "line": {
           "color": "black",
           "width": 2
          },
          "size": 8,
          "symbol": "diamond"
         },
         "mode": "markers",
         "name": "Centroid 1",
         "type": "scatter3d",
         "x": [
          -0.5442311324007991
         ],
         "y": [
          -0.5591453246397426
         ],
         "z": [
          2.5977072575079014
         ]
        },
        {
         "marker": {
          "color": "#FF9900",
          "size": 5
         },
         "mode": "markers",
         "name": "Cluster 2",
         "type": "scatter3d",
         "x": [
          -0.70502476747691,
          -0.7011097920141873,
          -0.6971948165514646,
          -0.6893648656260192,
          -0.6815349147005738,
          -0.6815349147005738,
          -0.6776199392378511,
          -0.6619600373869603,
          -0.6423851600733468,
          -0.626725258222456,
          -0.6188953072970106,
          -0.6071503809088424,
          -0.6032354054461198,
          -0.5836605281325062,
          -0.5758305772070609,
          -0.56017067535617,
          -0.56017067535617,
          -0.56017067535617,
          -0.56017067535617,
          -0.548425748968002,
          -0.5366808225798338,
          -0.5366808225798338,
          -0.5249358961916658,
          -0.5249358961916658,
          -0.5171059452662203,
          -0.509275994340775,
          -0.4975310679526069,
          -0.49361609248988414,
          -0.4857861415644388,
          -0.4857861415644388,
          -0.47795619063899336,
          -0.4740412151762707,
          -0.46621126425082526,
          -0.46621126425082526,
          -0.43097648508632097,
          -0.43097648508632097,
          -0.43097648508632097,
          -0.42706150962359823,
          -0.3291871230555307,
          -0.30178229481647184,
          -0.30178229481647184,
          -0.27829244204013565,
          -0.23522771195018594,
          -0.23522771195018594
         ],
         "y": [
          -0.6149803318342879,
          -0.40357165684726204,
          -0.48970111702716146,
          -0.5131909698034977,
          -0.6580450619242376,
          -0.38791175499637126,
          -0.6345552091479014,
          -0.5327658471171112,
          -0.716769693865078,
          -0.47795619063899336,
          -0.6619600373869603,
          -0.5366808225798338,
          -0.6110653563715652,
          -0.5758305772070609,
          -0.5523407244307247,
          -0.5680006262816155,
          -0.6071503809088424,
          -0.5719156017443382,
          -0.6110653563715652,
          -0.5562556998934474,
          -0.6149803318342879,
          -0.587575503595229,
          -0.6032354054461198,
          -0.5680006262816155,
          -0.5758305772070609,
          -0.6032354054461198,
          -0.47012623971354794,
          -0.7285146202532462,
          -0.42706150962359823,
          -0.4857861415644388,
          -0.7520044730295824,
          -0.6149803318342879,
          -0.6854498901632965,
          -0.4192315586981529,
          -0.5249358961916658,
          -0.47795619063899336,
          -0.41140160777270746,
          -0.5014460434153296,
          -0.7402595466414142,
          -0.7089397429396327,
          -0.4622962887881026,
          -0.6619600373869603,
          -0.7011097920141873,
          -0.44663638693721175
         ],
         "z": [
          -0.4337952674194813,
          -0.6416021649808021,
          0.07992781279899146,
          -0.106072671434964,
          -0.6669712059792453,
          -0.6664231094144643,
          0.03823332412099468,
          -0.7285929197625007,
          -0.08990382277391927,
          -0.3570225985954891,
          -0.0402619339065954,
          -0.5608753709394602,
          -0.031218340587705954,
          -0.3500147925172155,
          -0.42482997360984637,
          -0.5836213783778791,
          -0.5300645140478325,
          0.08008441181750034,
          -0.6542083859707694,
          -0.13183320997967943,
          -0.5401260009870298,
          0.15063226965576343,
          -0.7107014818978579,
          0.01701415711303769,
          -0.7319989484150694,
          -0.7232294033785706,
          -0.31254847733895924,
          -0.45618892706625513,
          0.1047096074780262,
          -0.46781640419054155,
          -0.2789579878687985,
          -0.17035656853287082,
          -0.22093805151124804,
          0.15826647180807266,
          -0.14440028121501933,
          -0.11096639076336738,
          -0.04781783654965024,
          -0.1868777649855606,
          0.11708092994022992,
          -0.22230829292320098,
          -0.24309681263025854,
          -0.13868441703944415,
          -0.6996221013383527,
          -0.22050740421034862
         ]
        },
        {
         "marker": {
          "color": "#FF9900",
          "line": {
           "color": "black",
           "width": 2
          },
          "size": 8,
          "symbol": "diamond"
         },
         "mode": "markers",
         "name": "Centroid 2",
         "type": "scatter3d",
         "x": [
          -0.5213768275891909
         ],
         "y": [
          -0.5694242537226056
         ],
         "z": [
          -0.2926933233729008
         ]
        },
        {
         "marker": {
          "color": "#109618",
          "size": 5
         },
         "mode": "markers",
         "name": "Cluster 3",
         "type": "scatter3d",
         "x": [
          -0.7128547184023554,
          -0.7089397429396327,
          -0.7089397429396327,
          -0.6971948165514646,
          -0.6971948165514646,
          -0.6932798410887419,
          -0.6737049637751283,
          -0.6619600373869603,
          -0.6384701846106241,
          -0.6228102827597333,
          -0.6149803318342879,
          -0.5914904790579517,
          -0.587575503595229,
          -0.5797455526697836,
          -0.5797455526697836,
          -0.5758305772070609,
          -0.56017067535617,
          -0.56017067535617,
          -0.5366808225798338,
          -0.5327658471171112,
          -0.5171059452662203,
          -0.5171059452662203,
          -0.509275994340775,
          -0.49361609248988414,
          -0.49361609248988414,
          -0.4857861415644388,
          -0.48187116610171604,
          -0.48187116610171604,
          -0.47795619063899336,
          -0.47012623971354794,
          -0.46621126425082526,
          -0.46621126425082526,
          -0.46621126425082526,
          -0.46621126425082526,
          -0.46621126425082526,
          -0.4622962887881026,
          -0.45446633786265717,
          -0.43880643601176633,
          -0.43489146054904365,
          -0.43097648508632097,
          -0.43097648508632097,
          -0.42706150962359823,
          -0.4074866323099848,
          -0.39182673045909394,
          -0.39182673045909394,
          -0.3839967795336485,
          -0.37616682860820316,
          -0.36833687768275775,
          -0.36833687768275775,
          -0.36833687768275775
         ],
         "y": [
          -0.6188953072970106,
          -0.7480894975668597,
          -0.47012623971354794,
          -0.716769693865078,
          -0.3839967795336485,
          -0.7206846693278008,
          -0.4857861415644388,
          -0.6463001355360695,
          -0.70502476747691,
          -0.41140160777270746,
          -0.6071503809088424,
          -0.5719156017443382,
          -0.5405957980425565,
          -0.5562556998934474,
          -0.6071503809088424,
          -0.5797455526697836,
          -0.548425748968002,
          -0.5914904790579517,
          -0.6071503809088424,
          -0.5797455526697836,
          -0.5836605281325062,
          -0.6032354054461198,
          -0.5523407244307247,
          -0.6345552091479014,
          -0.39965668138453936,
          -0.7520044730295824,
          -0.7324295957159689,
          -0.48970111702716146,
          -0.4074866323099848,
          -0.48187116610171604,
          -0.70502476747691,
          -0.6932798410887419,
          -0.7089397429396327,
          -0.46621126425082526,
          -0.7676643748804732,
          -0.44663638693721175,
          -0.7520044730295824,
          -0.47795619063899336,
          -0.6932798410887419,
          -0.665875012849683,
          -0.7324295957159689,
          -0.43489146054904365,
          -0.716769693865078,
          -0.6463001355360695,
          -0.43489146054904365,
          -0.39182673045909394,
          -0.5053610188780523,
          -0.70502476747691,
          -0.6815349147005738,
          -0.5014460434153296
         ],
         "z": [
          1.871851231841799,
          1.4337654775631283,
          1.8738478693277876,
          1.5030605432533204,
          1.5196208894606376,
          1.3878036656307644,
          1.926073642000508,
          1.491785413920679,
          1.5775233765543062,
          2.0192109082586813,
          1.631315139412116,
          2.081811365907617,
          1.3712433194234472,
          1.3567579102113732,
          1.6247379806347422,
          1.4716624400422844,
          1.3632567694794926,
          2.0716715794591654,
          1.7151347640690089,
          1.835676858566241,
          2.070692835593485,
          1.4525182100295704,
          2.0253574197351556,
          1.4908066700549985,
          1.6016396254046783,
          1.5669920925595822,
          2.0800887767040193,
          1.6405153317495145,
          1.9316720569122017,
          1.2391520473111832,
          1.6579761223132579,
          1.3504547997163894,
          1.8631599863145545,
          2.0192109082586813,
          1.4274623670681452,
          1.9842501773765675,
          1.3759804397333415,
          1.6321372842592878,
          1.7803974050325966,
          1.5708679182676777,
          1.8283167046963225,
          2.033187370660601,
          2.0999768520546507,
          2.072963521361864,
          1.8710682367492542,
          1.266517725795615,
          1.7082835570092443,
          1.3678372907708785,
          1.894675538789472,
          1.9584504890772252
         ]
        },
        {
         "marker": {
          "color": "#109618",
          "line": {
           "color": "black",
           "width": 2
          },
          "size": 8,
          "symbol": "diamond"
         },
         "mode": "markers",
         "name": "Centroid 3",
         "type": "scatter3d",
         "x": [
          -0.5185936359420552
         ],
         "y": [
          -0.5892197932895726
         ],
         "z": [
          1.699808418127542
         ]
        }
       ],
       "layout": {
        "height": 1000,
        "scene": {
         "xaxis": {
          "title": {
           "text": "Annual Income (k$)"
          }
         },
         "yaxis": {
          "title": {
           "text": "Spending Score (1-100)"
          }
         },
         "zaxis": {
          "showticklabels": false,
          "title": {
           "text": "Average Purchase Amount"
          }
         }
        },
        "template": {
         "data": {
          "bar": [
           {
            "error_x": {
             "color": "#2a3f5f"
            },
            "error_y": {
             "color": "#2a3f5f"
            },
            "marker": {
             "line": {
              "color": "#E5ECF6",
              "width": 0.5
             },
             "pattern": {
              "fillmode": "overlay",
              "size": 10,
              "solidity": 0.2
             }
            },
            "type": "bar"
           }
          ],
          "barpolar": [
           {
            "marker": {
             "line": {
              "color": "#E5ECF6",
              "width": 0.5
             },
             "pattern": {
              "fillmode": "overlay",
              "size": 10,
              "solidity": 0.2
             }
            },
            "type": "barpolar"
           }
          ],
          "carpet": [
           {
            "aaxis": {
             "endlinecolor": "#2a3f5f",
             "gridcolor": "white",
             "linecolor": "white",
             "minorgridcolor": "white",
             "startlinecolor": "#2a3f5f"
            },
            "baxis": {
             "endlinecolor": "#2a3f5f",
             "gridcolor": "white",
             "linecolor": "white",
             "minorgridcolor": "white",
             "startlinecolor": "#2a3f5f"
            },
            "type": "carpet"
           }
          ],
          "choropleth": [
           {
            "colorbar": {
             "outlinewidth": 0,
             "ticks": ""
            },
            "type": "choropleth"
           }
          ],
          "contour": [
           {
            "colorbar": {
             "outlinewidth": 0,
             "ticks": ""
            },
            "colorscale": [
             [
              0,
              "#0d0887"
             ],
             [
              0.1111111111111111,
              "#46039f"
             ],
             [
              0.2222222222222222,
              "#7201a8"
             ],
             [
              0.3333333333333333,
              "#9c179e"
             ],
             [
              0.4444444444444444,
              "#bd3786"
             ],
             [
              0.5555555555555556,
              "#d8576b"
             ],
             [
              0.6666666666666666,
              "#ed7953"
             ],
             [
              0.7777777777777778,
              "#fb9f3a"
             ],
             [
              0.8888888888888888,
              "#fdca26"
             ],
             [
              1,
              "#f0f921"
             ]
            ],
            "type": "contour"
           }
          ],
          "contourcarpet": [
           {
            "colorbar": {
             "outlinewidth": 0,
             "ticks": ""
            },
            "type": "contourcarpet"
           }
          ],
          "heatmap": [
           {
            "colorbar": {
             "outlinewidth": 0,
             "ticks": ""
            },
            "colorscale": [
             [
              0,
              "#0d0887"
             ],
             [
              0.1111111111111111,
              "#46039f"
             ],
             [
              0.2222222222222222,
              "#7201a8"
             ],
             [
              0.3333333333333333,
              "#9c179e"
             ],
             [
              0.4444444444444444,
              "#bd3786"
             ],
             [
              0.5555555555555556,
              "#d8576b"
             ],
             [
              0.6666666666666666,
              "#ed7953"
             ],
             [
              0.7777777777777778,
              "#fb9f3a"
             ],
             [
              0.8888888888888888,
              "#fdca26"
             ],
             [
              1,
              "#f0f921"
             ]
            ],
            "type": "heatmap"
           }
          ],
          "heatmapgl": [
           {
            "colorbar": {
             "outlinewidth": 0,
             "ticks": ""
            },
            "colorscale": [
             [
              0,
              "#0d0887"
             ],
             [
              0.1111111111111111,
              "#46039f"
             ],
             [
              0.2222222222222222,
              "#7201a8"
             ],
             [
              0.3333333333333333,
              "#9c179e"
             ],
             [
              0.4444444444444444,
              "#bd3786"
             ],
             [
              0.5555555555555556,
              "#d8576b"
             ],
             [
              0.6666666666666666,
              "#ed7953"
             ],
             [
              0.7777777777777778,
              "#fb9f3a"
             ],
             [
              0.8888888888888888,
              "#fdca26"
             ],
             [
              1,
              "#f0f921"
             ]
            ],
            "type": "heatmapgl"
           }
          ],
          "histogram": [
           {
            "marker": {
             "pattern": {
              "fillmode": "overlay",
              "size": 10,
              "solidity": 0.2
             }
            },
            "type": "histogram"
           }
          ],
          "histogram2d": [
           {
            "colorbar": {
             "outlinewidth": 0,
             "ticks": ""
            },
            "colorscale": [
             [
              0,
              "#0d0887"
             ],
             [
              0.1111111111111111,
              "#46039f"
             ],
             [
              0.2222222222222222,
              "#7201a8"
             ],
             [
              0.3333333333333333,
              "#9c179e"
             ],
             [
              0.4444444444444444,
              "#bd3786"
             ],
             [
              0.5555555555555556,
              "#d8576b"
             ],
             [
              0.6666666666666666,
              "#ed7953"
             ],
             [
              0.7777777777777778,
              "#fb9f3a"
             ],
             [
              0.8888888888888888,
              "#fdca26"
             ],
             [
              1,
              "#f0f921"
             ]
            ],
            "type": "histogram2d"
           }
          ],
          "histogram2dcontour": [
           {
            "colorbar": {
             "outlinewidth": 0,
             "ticks": ""
            },
            "colorscale": [
             [
              0,
              "#0d0887"
             ],
             [
              0.1111111111111111,
              "#46039f"
             ],
             [
              0.2222222222222222,
              "#7201a8"
             ],
             [
              0.3333333333333333,
              "#9c179e"
             ],
             [
              0.4444444444444444,
              "#bd3786"
             ],
             [
              0.5555555555555556,
              "#d8576b"
             ],
             [
              0.6666666666666666,
              "#ed7953"
             ],
             [
              0.7777777777777778,
              "#fb9f3a"
             ],
             [
              0.8888888888888888,
              "#fdca26"
             ],
             [
              1,
              "#f0f921"
             ]
            ],
            "type": "histogram2dcontour"
           }
          ],
          "mesh3d": [
           {
            "colorbar": {
             "outlinewidth": 0,
             "ticks": ""
            },
            "type": "mesh3d"
           }
          ],
          "parcoords": [
           {
            "line": {
             "colorbar": {
              "outlinewidth": 0,
              "ticks": ""
             }
            },
            "type": "parcoords"
           }
          ],
          "pie": [
           {
            "automargin": true,
            "type": "pie"
           }
          ],
          "scatter": [
           {
            "fillpattern": {
             "fillmode": "overlay",
             "size": 10,
             "solidity": 0.2
            },
            "type": "scatter"
           }
          ],
          "scatter3d": [
           {
            "line": {
             "colorbar": {
              "outlinewidth": 0,
              "ticks": ""
             }
            },
            "marker": {
             "colorbar": {
              "outlinewidth": 0,
              "ticks": ""
             }
            },
            "type": "scatter3d"
           }
          ],
          "scattercarpet": [
           {
            "marker": {
             "colorbar": {
              "outlinewidth": 0,
              "ticks": ""
             }
            },
            "type": "scattercarpet"
           }
          ],
          "scattergeo": [
           {
            "marker": {
             "colorbar": {
              "outlinewidth": 0,
              "ticks": ""
             }
            },
            "type": "scattergeo"
           }
          ],
          "scattergl": [
           {
            "marker": {
             "colorbar": {
              "outlinewidth": 0,
              "ticks": ""
             }
            },
            "type": "scattergl"
           }
          ],
          "scattermapbox": [
           {
            "marker": {
             "colorbar": {
              "outlinewidth": 0,
              "ticks": ""
             }
            },
            "type": "scattermapbox"
           }
          ],
          "scatterpolar": [
           {
            "marker": {
             "colorbar": {
              "outlinewidth": 0,
              "ticks": ""
             }
            },
            "type": "scatterpolar"
           }
          ],
          "scatterpolargl": [
           {
            "marker": {
             "colorbar": {
              "outlinewidth": 0,
              "ticks": ""
             }
            },
            "type": "scatterpolargl"
           }
          ],
          "scatterternary": [
           {
            "marker": {
             "colorbar": {
              "outlinewidth": 0,
              "ticks": ""
             }
            },
            "type": "scatterternary"
           }
          ],
          "surface": [
           {
            "colorbar": {
             "outlinewidth": 0,
             "ticks": ""
            },
            "colorscale": [
             [
              0,
              "#0d0887"
             ],
             [
              0.1111111111111111,
              "#46039f"
             ],
             [
              0.2222222222222222,
              "#7201a8"
             ],
             [
              0.3333333333333333,
              "#9c179e"
             ],
             [
              0.4444444444444444,
              "#bd3786"
             ],
             [
              0.5555555555555556,
              "#d8576b"
             ],
             [
              0.6666666666666666,
              "#ed7953"
             ],
             [
              0.7777777777777778,
              "#fb9f3a"
             ],
             [
              0.8888888888888888,
              "#fdca26"
             ],
             [
              1,
              "#f0f921"
             ]
            ],
            "type": "surface"
           }
          ],
          "table": [
           {
            "cells": {
             "fill": {
              "color": "#EBF0F8"
             },
             "line": {
              "color": "white"
             }
            },
            "header": {
             "fill": {
              "color": "#C8D4E3"
             },
             "line": {
              "color": "white"
             }
            },
            "type": "table"
           }
          ]
         },
         "layout": {
          "annotationdefaults": {
           "arrowcolor": "#2a3f5f",
           "arrowhead": 0,
           "arrowwidth": 1
          },
          "autotypenumbers": "strict",
          "coloraxis": {
           "colorbar": {
            "outlinewidth": 0,
            "ticks": ""
           }
          },
          "colorscale": {
           "diverging": [
            [
             0,
             "#8e0152"
            ],
            [
             0.1,
             "#c51b7d"
            ],
            [
             0.2,
             "#de77ae"
            ],
            [
             0.3,
             "#f1b6da"
            ],
            [
             0.4,
             "#fde0ef"
            ],
            [
             0.5,
             "#f7f7f7"
            ],
            [
             0.6,
             "#e6f5d0"
            ],
            [
             0.7,
             "#b8e186"
            ],
            [
             0.8,
             "#7fbc41"
            ],
            [
             0.9,
             "#4d9221"
            ],
            [
             1,
             "#276419"
            ]
           ],
           "sequential": [
            [
             0,
             "#0d0887"
            ],
            [
             0.1111111111111111,
             "#46039f"
            ],
            [
             0.2222222222222222,
             "#7201a8"
            ],
            [
             0.3333333333333333,
             "#9c179e"
            ],
            [
             0.4444444444444444,
             "#bd3786"
            ],
            [
             0.5555555555555556,
             "#d8576b"
            ],
            [
             0.6666666666666666,
             "#ed7953"
            ],
            [
             0.7777777777777778,
             "#fb9f3a"
            ],
            [
             0.8888888888888888,
             "#fdca26"
            ],
            [
             1,
             "#f0f921"
            ]
           ],
           "sequentialminus": [
            [
             0,
             "#0d0887"
            ],
            [
             0.1111111111111111,
             "#46039f"
            ],
            [
             0.2222222222222222,
             "#7201a8"
            ],
            [
             0.3333333333333333,
             "#9c179e"
            ],
            [
             0.4444444444444444,
             "#bd3786"
            ],
            [
             0.5555555555555556,
             "#d8576b"
            ],
            [
             0.6666666666666666,
             "#ed7953"
            ],
            [
             0.7777777777777778,
             "#fb9f3a"
            ],
            [
             0.8888888888888888,
             "#fdca26"
            ],
            [
             1,
             "#f0f921"
            ]
           ]
          },
          "colorway": [
           "#636efa",
           "#EF553B",
           "#00cc96",
           "#ab63fa",
           "#FFA15A",
           "#19d3f3",
           "#FF6692",
           "#B6E880",
           "#FF97FF",
           "#FECB52"
          ],
          "font": {
           "color": "#2a3f5f"
          },
          "geo": {
           "bgcolor": "white",
           "lakecolor": "white",
           "landcolor": "#E5ECF6",
           "showlakes": true,
           "showland": true,
           "subunitcolor": "white"
          },
          "hoverlabel": {
           "align": "left"
          },
          "hovermode": "closest",
          "mapbox": {
           "style": "light"
          },
          "paper_bgcolor": "white",
          "plot_bgcolor": "#E5ECF6",
          "polar": {
           "angularaxis": {
            "gridcolor": "white",
            "linecolor": "white",
            "ticks": ""
           },
           "bgcolor": "#E5ECF6",
           "radialaxis": {
            "gridcolor": "white",
            "linecolor": "white",
            "ticks": ""
           }
          },
          "scene": {
           "xaxis": {
            "backgroundcolor": "#E5ECF6",
            "gridcolor": "white",
            "gridwidth": 2,
            "linecolor": "white",
            "showbackground": true,
            "ticks": "",
            "zerolinecolor": "white"
           },
           "yaxis": {
            "backgroundcolor": "#E5ECF6",
            "gridcolor": "white",
            "gridwidth": 2,
            "linecolor": "white",
            "showbackground": true,
            "ticks": "",
            "zerolinecolor": "white"
           },
           "zaxis": {
            "backgroundcolor": "#E5ECF6",
            "gridcolor": "white",
            "gridwidth": 2,
            "linecolor": "white",
            "showbackground": true,
            "ticks": "",
            "zerolinecolor": "white"
           }
          },
          "shapedefaults": {
           "line": {
            "color": "#2a3f5f"
           }
          },
          "ternary": {
           "aaxis": {
            "gridcolor": "white",
            "linecolor": "white",
            "ticks": ""
           },
           "baxis": {
            "gridcolor": "white",
            "linecolor": "white",
            "ticks": ""
           },
           "bgcolor": "#E5ECF6",
           "caxis": {
            "gridcolor": "white",
            "linecolor": "white",
            "ticks": ""
           }
          },
          "title": {
           "x": 0.05
          },
          "xaxis": {
           "automargin": true,
           "gridcolor": "white",
           "linecolor": "white",
           "ticks": "",
           "title": {
            "standoff": 15
           },
           "zerolinecolor": "white",
           "zerolinewidth": 2
          },
          "yaxis": {
           "automargin": true,
           "gridcolor": "white",
           "linecolor": "white",
           "ticks": "",
           "title": {
            "standoff": 15
           },
           "zerolinecolor": "white",
           "zerolinewidth": 2
          }
         }
        },
        "title": {
         "text": "Current State Iteration: 10"
        },
        "width": 1200
       }
      }
     },
     "metadata": {},
     "output_type": "display_data"
    }
   ],
   "source": [
    "kmeans = KMeans(k = 4, max_iter = 10, cluster_method = 'kmeans++', distance_metric='euclidean', random_state = 42)\n",
    "kmeans.fit(df_customers[['Annual Income (k$)', 'Spending Score (1-100)', 'Average Purchase Amount']], scaling_method='standardization')#, 'Average Purchase Amount', 'Spending Score (1-100)'])\n",
    "kmeans.perform(show_initial_centroids=True, plot_data=True)"
   ]
  }
 ],
 "metadata": {
  "kernelspec": {
   "display_name": "Python 3",
   "language": "python",
   "name": "python3"
  },
  "language_info": {
   "codemirror_mode": {
    "name": "ipython",
    "version": 3
   },
   "file_extension": ".py",
   "mimetype": "text/x-python",
   "name": "python",
   "nbconvert_exporter": "python",
   "pygments_lexer": "ipython3",
   "version": "3.11.4"
  }
 },
 "nbformat": 4,
 "nbformat_minor": 2
}
