{
 "cells": [
  {
   "cell_type": "code",
   "execution_count": 1,
   "metadata": {},
   "outputs": [],
   "source": [
    "import pandas as pd\n",
    "import numpy as np\n",
    "import matplotlib.pyplot as plt\n",
    "import seaborn as sns\n",
    "\n",
    "from kmeans import KMeans"
   ]
  },
  {
   "cell_type": "code",
   "execution_count": 2,
   "metadata": {},
   "outputs": [],
   "source": [
    "def read_present_data(synthetic_data = False):\n",
    "\n",
    "        df_customers = pd.read_csv('../datasets/Mall_Customers.csv') \n",
    "        df_customers.drop(['CustomerID', 'Gender'], axis=1, inplace=True)\n",
    "        \n",
    "        # Additional synthetic columns\n",
    "        df_customers['Number of Purchases'] = np.random.randint(1, 20, size=len(df_customers))\n",
    "        df_customers['Average Purchase Amount'] = np.round(np.random.uniform(10, 1000, size=len(df_customers)), 2)\n",
    "        \n",
    "        if synthetic_data:\n",
    "            synthetic_data_size = 800\n",
    "            # Additional synthetic rows\n",
    "            new_rows = {\n",
    "                'Age': np.random.randint(df_customers['Age'].min(), df_customers['Age'].max(), size=synthetic_data_size),\n",
    "                'Annual Income (k$)': np.random.randint(df_customers['Annual Income (k$)'].min(), df_customers['Annual Income (k$)'].max(), size=synthetic_data_size),\n",
    "                'Spending Score (1-100)': np.random.randint(df_customers['Spending Score (1-100)'].min(), df_customers['Spending Score (1-100)'].max(), size=synthetic_data_size),\n",
    "                'Number of Purchases': np.random.randint(df_customers['Number of Purchases'].min(), df_customers['Number of Purchases'].max(), size=synthetic_data_size),\n",
    "                'Average Purchase Amount': np.random.uniform(df_customers['Average Purchase Amount'].min(), df_customers['Average Purchase Amount'].max(), size=synthetic_data_size),\n",
    "            }\n",
    "            # Concatenate the new data to the existing DataFrame\n",
    "            df_customers = pd.concat([df_customers, pd.DataFrame(new_rows)], ignore_index=True)\n",
    "\n",
    "        return df_customers\n",
    "    "
   ]
  },
  {
   "cell_type": "code",
   "execution_count": 3,
   "metadata": {},
   "outputs": [
    {
     "data": {
      "text/html": [
       "<div>\n",
       "<style scoped>\n",
       "    .dataframe tbody tr th:only-of-type {\n",
       "        vertical-align: middle;\n",
       "    }\n",
       "\n",
       "    .dataframe tbody tr th {\n",
       "        vertical-align: top;\n",
       "    }\n",
       "\n",
       "    .dataframe thead th {\n",
       "        text-align: right;\n",
       "    }\n",
       "</style>\n",
       "<table border=\"1\" class=\"dataframe\">\n",
       "  <thead>\n",
       "    <tr style=\"text-align: right;\">\n",
       "      <th></th>\n",
       "      <th>Age</th>\n",
       "      <th>Annual Income (k$)</th>\n",
       "      <th>Spending Score (1-100)</th>\n",
       "      <th>Number of Purchases</th>\n",
       "      <th>Average Purchase Amount</th>\n",
       "    </tr>\n",
       "  </thead>\n",
       "  <tbody>\n",
       "    <tr>\n",
       "      <th>0</th>\n",
       "      <td>19</td>\n",
       "      <td>15</td>\n",
       "      <td>39</td>\n",
       "      <td>10</td>\n",
       "      <td>675.21</td>\n",
       "    </tr>\n",
       "    <tr>\n",
       "      <th>1</th>\n",
       "      <td>21</td>\n",
       "      <td>15</td>\n",
       "      <td>81</td>\n",
       "      <td>5</td>\n",
       "      <td>934.51</td>\n",
       "    </tr>\n",
       "    <tr>\n",
       "      <th>2</th>\n",
       "      <td>20</td>\n",
       "      <td>16</td>\n",
       "      <td>6</td>\n",
       "      <td>16</td>\n",
       "      <td>563.31</td>\n",
       "    </tr>\n",
       "    <tr>\n",
       "      <th>3</th>\n",
       "      <td>23</td>\n",
       "      <td>16</td>\n",
       "      <td>77</td>\n",
       "      <td>1</td>\n",
       "      <td>675.72</td>\n",
       "    </tr>\n",
       "    <tr>\n",
       "      <th>4</th>\n",
       "      <td>31</td>\n",
       "      <td>17</td>\n",
       "      <td>40</td>\n",
       "      <td>18</td>\n",
       "      <td>86.28</td>\n",
       "    </tr>\n",
       "    <tr>\n",
       "      <th>...</th>\n",
       "      <td>...</td>\n",
       "      <td>...</td>\n",
       "      <td>...</td>\n",
       "      <td>...</td>\n",
       "      <td>...</td>\n",
       "    </tr>\n",
       "    <tr>\n",
       "      <th>195</th>\n",
       "      <td>35</td>\n",
       "      <td>120</td>\n",
       "      <td>79</td>\n",
       "      <td>7</td>\n",
       "      <td>134.99</td>\n",
       "    </tr>\n",
       "    <tr>\n",
       "      <th>196</th>\n",
       "      <td>45</td>\n",
       "      <td>126</td>\n",
       "      <td>28</td>\n",
       "      <td>10</td>\n",
       "      <td>161.66</td>\n",
       "    </tr>\n",
       "    <tr>\n",
       "      <th>197</th>\n",
       "      <td>32</td>\n",
       "      <td>126</td>\n",
       "      <td>74</td>\n",
       "      <td>9</td>\n",
       "      <td>350.37</td>\n",
       "    </tr>\n",
       "    <tr>\n",
       "      <th>198</th>\n",
       "      <td>32</td>\n",
       "      <td>137</td>\n",
       "      <td>18</td>\n",
       "      <td>17</td>\n",
       "      <td>18.38</td>\n",
       "    </tr>\n",
       "    <tr>\n",
       "      <th>199</th>\n",
       "      <td>30</td>\n",
       "      <td>137</td>\n",
       "      <td>83</td>\n",
       "      <td>12</td>\n",
       "      <td>140.76</td>\n",
       "    </tr>\n",
       "  </tbody>\n",
       "</table>\n",
       "<p>200 rows × 5 columns</p>\n",
       "</div>"
      ],
      "text/plain": [
       "     Age  Annual Income (k$)  Spending Score (1-100)  Number of Purchases  \\\n",
       "0     19                  15                      39                   10   \n",
       "1     21                  15                      81                    5   \n",
       "2     20                  16                       6                   16   \n",
       "3     23                  16                      77                    1   \n",
       "4     31                  17                      40                   18   \n",
       "..   ...                 ...                     ...                  ...   \n",
       "195   35                 120                      79                    7   \n",
       "196   45                 126                      28                   10   \n",
       "197   32                 126                      74                    9   \n",
       "198   32                 137                      18                   17   \n",
       "199   30                 137                      83                   12   \n",
       "\n",
       "     Average Purchase Amount  \n",
       "0                     675.21  \n",
       "1                     934.51  \n",
       "2                     563.31  \n",
       "3                     675.72  \n",
       "4                      86.28  \n",
       "..                       ...  \n",
       "195                   134.99  \n",
       "196                   161.66  \n",
       "197                   350.37  \n",
       "198                    18.38  \n",
       "199                   140.76  \n",
       "\n",
       "[200 rows x 5 columns]"
      ]
     },
     "execution_count": 3,
     "metadata": {},
     "output_type": "execute_result"
    }
   ],
   "source": [
    "df_customers = read_present_data()\n",
    "df_customers"
   ]
  },
  {
   "cell_type": "code",
   "execution_count": 9,
   "metadata": {},
   "outputs": [
    {
     "data": {
      "image/png": "[encoded data removed]",
      "text/plain": [
       "<Figure size 640x480 with 1 Axes>"
      ]
     },
     "metadata": {},
     "output_type": "display_data"
    },
    {
     "name": "stdout",
     "output_type": "stream",
     "text": [
      "Cluster Array\n",
      " [1 1 1 1 2 1 2 0 2 0 2 1 2 1 2 1 1 1 2 0 2 1 2 1 2 1 2 2 2 1 2 1 2 1 2 1 2\n",
      " 1 2 0 2 1 2 1 2 1 2 1 1 1 2 0 0 2 2 2 2 2 1 2 2 1 2 2 2 1 2 2 1 1 2 2 2 2\n",
      " 2 0 0 2 0 2 2 2 2 2 1 2 2 0 0 2 2 1 2 2 1 1 2 1 2 1 0 2 2 1 2 1 2 2 2 2 2\n",
      " 1 2 1 1 0 2 2 2 2 0 0 0 0 1 0 3 0 2 0 3 0 1 0 3 0 3 0 3 0 3 0 0 1 3 0 3 0\n",
      " 3 0 3 0 3 0 3 0 3 0 3 1 2 0 3 0 3 0 3 1 3 0 3 0 3 0 3 0 3 0 3 0 3 0 3 0 3\n",
      " 0 3 0 3 0 3 0 3 0 3 0 3 0 3 0]\n",
      "Cluster Centroids\n",
      " [[-0.51603456  0.56774629  0.94940502 -0.46001485 -0.31968227]\n",
      " [-1.01852461 -0.66434701  0.41650228  0.1931239   0.60021636]\n",
      " [ 0.99635684 -0.52124805 -0.38488672  0.16809917 -0.2096637 ]\n",
      " [ 0.13438841  1.08397507 -1.28799652  0.12398089  0.13333997]]\n"
     ]
    }
   ],
   "source": [
    "kmeans = KMeans(k = 4, max_iter = 10, cluster_method = 'random', distance_metric='euclidean', random_state = 42)\n",
    "kmeans.fit(df_customers, scaling_method='standardization')#, 'Average Purchase Amount', 'Spending Score (1-100)'])\n",
    "kmeans.perform(show_initial_centroids=False, plot_data=False)\n",
    "\n",
    "print(\"Cluster Array\\n\", kmeans.get_cluster_array(visualize=True))\n",
    "print(\"Cluster Centroids\\n\", kmeans.get_centroids())"
   ]
  },
  {
   "cell_type": "code",
   "execution_count": 7,
   "metadata": {},
   "outputs": [
    {
     "name": "stdout",
     "output_type": "stream",
     "text": [
      "Cluster Array\n",
      " [0 0 1 0 2 0 1 0 1 0 1 0 2 0 1 0 1 0 2 0 2 0 1 0 2 0 1 2 1 0 1 0 1 0 2 0 1\n",
      " 0 2 0 1 0 2 0 2 0 2 0 0 0 1 2 0 2 1 2 2 2 0 2 2 0 2 1 2 0 2 1 0 0 2 1 1 2\n",
      " 1 0 2 1 0 2 2 2 2 1 0 1 1 0 0 1 2 0 2 2 0 0 2 0 2 0 0 2 1 0 2 0 1 1 2 2 2\n",
      " 0 3 0 0 0 2 1 2 2 0 2 0 0 3 0 3 0 2 0 3 0 3 0 3 0 3 0 3 0 2 0 0 0 3 0 3 0\n",
      " 3 0 3 0 3 0 3 0 3 0 3 0 2 0 3 0 2 0 3 0 3 0 3 0 3 0 3 0 3 0 3 0 3 0 3 0 3\n",
      " 0 3 0 3 0 3 0 3 0 3 0 3 0 3 0]\n"
     ]
    },
    {
     "data": {
      "image/png": "[encoded data removed]",
      "text/plain": [
       "<Figure size 640x480 with 1 Axes>"
      ]
     },
     "metadata": {},
     "output_type": "display_data"
    },
    {
     "name": "stdout",
     "output_type": "stream",
     "text": [
      "200\n",
      "Cluster Centroids\n",
      " [[-0.7625594   0.03641704  0.79908407 -0.16446066  0.09033751]\n",
      " [ 0.85003448 -0.73947364 -0.60463454  0.52627334  0.81966248]\n",
      " [ 0.96938201 -0.37143559 -0.29565226 -0.1804596  -0.8848251 ]\n",
      " [ 0.00442155  1.03578887 -1.2230072   0.23544513  0.25620674]]\n"
     ]
    }
   ],
   "source": [
    "kmeans = KMeans(k = 4, max_iter = 10, cluster_method = 'kmeans++', distance_metric='euclidean', random_state = 42)\n",
    "kmeans.fit(df_customers, scaling_method='standardization')#, 'Average Purchase Amount', 'Spending Score (1-100)'])\n",
    "kmeans.perform(show_initial_centroids=False, plot_data=False)\n",
    "\n",
    "print(\"Cluster Array\\n\", kmeans.get_cluster_array())\n",
    "print(\"Cluster Centroids\\n\", kmeans.get_centroids())"
   ]
  },
  {
   "cell_type": "code",
   "execution_count": null,
   "metadata": {},
   "outputs": [],
   "source": []
  }
 ],
 "metadata": {
  "kernelspec": {
   "display_name": "Python 3",
   "language": "python",
   "name": "python3"
  },
  "language_info": {
   "codemirror_mode": {
    "name": "ipython",
    "version": 3
   },
   "file_extension": ".py",
   "mimetype": "text/x-python",
   "name": "python",
   "nbconvert_exporter": "python",
   "pygments_lexer": "ipython3",
   "version": "3.11.4"
  }
 },
 "nbformat": 4,
 "nbformat_minor": 2
}
