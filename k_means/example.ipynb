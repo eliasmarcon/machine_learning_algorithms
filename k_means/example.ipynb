{
 "cells": [
  {
   "cell_type": "code",
   "execution_count": 1,
   "metadata": {},
   "outputs": [],
   "source": [
    "import pandas as pd\n",
    "import numpy as np\n",
    "\n",
    "from kmeans import KMeans"
   ]
  },
  {
   "cell_type": "markdown",
   "metadata": {},
   "source": [
    "# Disclaimer\n",
    "\n",
    "### This is just an example notebook for the self implemented kmeans algorithm. It shows most of the implemented functionality for the kmeans algorithm. "
   ]
  },
  {
   "cell_type": "code",
   "execution_count": 2,
   "metadata": {},
   "outputs": [],
   "source": [
    "def read_present_data(synthetic_data = False):\n",
    "\n",
    "    df_customers = pd.read_csv('../datasets/Mall_Customers.csv') \n",
    "    df_customers.drop(['CustomerID', 'Gender'], axis=1, inplace=True)\n",
    "    \n",
    "    # Additional synthetic columns\n",
    "    df_customers['Number of Purchases'] = np.random.randint(1, 20, size=len(df_customers))\n",
    "    df_customers['Average Purchase Amount'] = np.round(np.random.uniform(10, 1000, size=len(df_customers)), 2)\n",
    "    \n",
    "    if synthetic_data:\n",
    "        synthetic_data_size = 800\n",
    "        # Additional synthetic rows\n",
    "        new_rows = {\n",
    "            'Age': np.random.randint(df_customers['Age'].min(), df_customers['Age'].max(), size=synthetic_data_size),\n",
    "            'Annual Income (k$)': np.random.randint(df_customers['Annual Income (k$)'].min(), df_customers['Annual Income (k$)'].max(), size=synthetic_data_size),\n",
    "            'Spending Score (1-100)': np.random.randint(df_customers['Spending Score (1-100)'].min(), df_customers['Spending Score (1-100)'].max(), size=synthetic_data_size),\n",
    "            'Number of Purchases': np.random.randint(df_customers['Number of Purchases'].min(), df_customers['Number of Purchases'].max(), size=synthetic_data_size),\n",
    "            'Average Purchase Amount': np.random.uniform(df_customers['Average Purchase Amount'].min(), df_customers['Average Purchase Amount'].max(), size=synthetic_data_size),\n",
    "        }\n",
    "        # Concatenate the new data to the existing DataFrame\n",
    "        df_customers = pd.concat([df_customers, pd.DataFrame(new_rows)], ignore_index=True)\n",
    "\n",
    "    return df_customers"
   ]
  },
  {
   "cell_type": "code",
   "execution_count": 3,
   "metadata": {},
   "outputs": [
    {
     "data": {
      "text/html": [
       "<div>\n",
       "<style scoped>\n",
       "    .dataframe tbody tr th:only-of-type {\n",
       "        vertical-align: middle;\n",
       "    }\n",
       "\n",
       "    .dataframe tbody tr th {\n",
       "        vertical-align: top;\n",
       "    }\n",
       "\n",
       "    .dataframe thead th {\n",
       "        text-align: right;\n",
       "    }\n",
       "</style>\n",
       "<table border=\"1\" class=\"dataframe\">\n",
       "  <thead>\n",
       "    <tr style=\"text-align: right;\">\n",
       "      <th></th>\n",
       "      <th>Age</th>\n",
       "      <th>Annual Income (k$)</th>\n",
       "      <th>Spending Score (1-100)</th>\n",
       "      <th>Number of Purchases</th>\n",
       "      <th>Average Purchase Amount</th>\n",
       "    </tr>\n",
       "  </thead>\n",
       "  <tbody>\n",
       "    <tr>\n",
       "      <th>0</th>\n",
       "      <td>19</td>\n",
       "      <td>15</td>\n",
       "      <td>39</td>\n",
       "      <td>11</td>\n",
       "      <td>864.65</td>\n",
       "    </tr>\n",
       "    <tr>\n",
       "      <th>1</th>\n",
       "      <td>21</td>\n",
       "      <td>15</td>\n",
       "      <td>81</td>\n",
       "      <td>18</td>\n",
       "      <td>190.93</td>\n",
       "    </tr>\n",
       "    <tr>\n",
       "      <th>2</th>\n",
       "      <td>20</td>\n",
       "      <td>16</td>\n",
       "      <td>6</td>\n",
       "      <td>14</td>\n",
       "      <td>558.75</td>\n",
       "    </tr>\n",
       "    <tr>\n",
       "      <th>3</th>\n",
       "      <td>23</td>\n",
       "      <td>16</td>\n",
       "      <td>77</td>\n",
       "      <td>11</td>\n",
       "      <td>315.25</td>\n",
       "    </tr>\n",
       "    <tr>\n",
       "      <th>4</th>\n",
       "      <td>31</td>\n",
       "      <td>17</td>\n",
       "      <td>40</td>\n",
       "      <td>5</td>\n",
       "      <td>367.95</td>\n",
       "    </tr>\n",
       "    <tr>\n",
       "      <th>...</th>\n",
       "      <td>...</td>\n",
       "      <td>...</td>\n",
       "      <td>...</td>\n",
       "      <td>...</td>\n",
       "      <td>...</td>\n",
       "    </tr>\n",
       "    <tr>\n",
       "      <th>195</th>\n",
       "      <td>35</td>\n",
       "      <td>120</td>\n",
       "      <td>79</td>\n",
       "      <td>8</td>\n",
       "      <td>491.16</td>\n",
       "    </tr>\n",
       "    <tr>\n",
       "      <th>196</th>\n",
       "      <td>45</td>\n",
       "      <td>126</td>\n",
       "      <td>28</td>\n",
       "      <td>17</td>\n",
       "      <td>972.69</td>\n",
       "    </tr>\n",
       "    <tr>\n",
       "      <th>197</th>\n",
       "      <td>32</td>\n",
       "      <td>126</td>\n",
       "      <td>74</td>\n",
       "      <td>11</td>\n",
       "      <td>65.77</td>\n",
       "    </tr>\n",
       "    <tr>\n",
       "      <th>198</th>\n",
       "      <td>32</td>\n",
       "      <td>137</td>\n",
       "      <td>18</td>\n",
       "      <td>11</td>\n",
       "      <td>23.49</td>\n",
       "    </tr>\n",
       "    <tr>\n",
       "      <th>199</th>\n",
       "      <td>30</td>\n",
       "      <td>137</td>\n",
       "      <td>83</td>\n",
       "      <td>6</td>\n",
       "      <td>486.79</td>\n",
       "    </tr>\n",
       "  </tbody>\n",
       "</table>\n",
       "<p>200 rows × 5 columns</p>\n",
       "</div>"
      ],
      "text/plain": [
       "     Age  Annual Income (k$)  Spending Score (1-100)  Number of Purchases  \\\n",
       "0     19                  15                      39                   11   \n",
       "1     21                  15                      81                   18   \n",
       "2     20                  16                       6                   14   \n",
       "3     23                  16                      77                   11   \n",
       "4     31                  17                      40                    5   \n",
       "..   ...                 ...                     ...                  ...   \n",
       "195   35                 120                      79                    8   \n",
       "196   45                 126                      28                   17   \n",
       "197   32                 126                      74                   11   \n",
       "198   32                 137                      18                   11   \n",
       "199   30                 137                      83                    6   \n",
       "\n",
       "     Average Purchase Amount  \n",
       "0                     864.65  \n",
       "1                     190.93  \n",
       "2                     558.75  \n",
       "3                     315.25  \n",
       "4                     367.95  \n",
       "..                       ...  \n",
       "195                   491.16  \n",
       "196                   972.69  \n",
       "197                    65.77  \n",
       "198                    23.49  \n",
       "199                   486.79  \n",
       "\n",
       "[200 rows x 5 columns]"
      ]
     },
     "execution_count": 3,
     "metadata": {},
     "output_type": "execute_result"
    }
   ],
   "source": [
    "df_customers = read_present_data()\n",
    "df_customers"
   ]
  },
  {
   "cell_type": "markdown",
   "metadata": {},
   "source": [
    "## Cluster Method random initialization"
   ]
  },
  {
   "cell_type": "code",
   "execution_count": 4,
   "metadata": {},
   "outputs": [],
   "source": [
    "kmeans = KMeans(k = 4, max_iter = 10, cluster_method = 'random', distance_metric='euclidean', random_state = 42)\n",
    "kmeans.fit(df_customers, scaling_method='standardization')#, 'Average Purchase Amount', 'Spending Score (1-100)'])\n",
    "kmeans.perform(show_initial_centroids=False, plot_data=False)"
   ]
  },
  {
   "cell_type": "code",
   "execution_count": 5,
   "metadata": {},
   "outputs": [
    {
     "data": {
      "image/png": "[encoded data removed]",
      "text/plain": [
       "<Figure size 800x600 with 1 Axes>"
      ]
     },
     "metadata": {},
     "output_type": "display_data"
    },
    {
     "name": "stdout",
     "output_type": "stream",
     "text": [
      "Cluster Array\n",
      " [1 0 3 2 2 3 0 3 3 0 2 0 3 3 2 1 3 1 2 2 2 1 0 2 0 2 1 1 1 0 2 0 0 2 2 1 2\n",
      " 3 0 3 3 1 0 0 3 0 3 3 3 0 1 1 1 3 2 0 2 1 2 0 1 2 3 3 0 1 0 1 1 1 2 2 2 1\n",
      " 3 3 0 2 3 1 2 3 2 3 1 0 1 1 2 0 2 2 0 2 0 0 3 1 3 2 3 2 2 0 1 0 1 1 2 0 3\n",
      " 1 1 1 1 3 3 2 3 1 0 2 1 3 3 1 0 3 2 3 2 1 2 2 0 1 2 2 1 1 2 2 3 2 3 0 3 1\n",
      " 2 1 3 1 3 3 2 2 3 2 1 3 1 0 2 3 3 2 2 0 1 1 0 0 0 3 3 2 0 2 0 3 3 3 3 1 0\n",
      " 3 3 3 3 0 0 3 2 2 2 2 1 0 0 2] \n",
      "\n",
      "Cluster Centroids\n",
      " [[-0.41875592 -0.32216956 -0.37865398 -0.53916223 -0.16914299]\n",
      " [-0.42469861 -0.33366574 -0.34111389 -0.54616772  3.26798889]\n",
      " [-0.40646905 -0.31779575 -0.37451888 -0.53349799  1.10585835]\n",
      " [-0.41123099 -0.31183046 -0.36737311 -0.53480138  2.21465498]]\n"
     ]
    }
   ],
   "source": [
    "print(\"Cluster Array\\n\", kmeans.get_cluster_array(visualize=True), \"\\n\")\n",
    "print(\"Cluster Centroids\\n\", kmeans.get_centroids())"
   ]
  },
  {
   "cell_type": "markdown",
   "metadata": {},
   "source": [
    "## Cluster Method kmeans++"
   ]
  },
  {
   "cell_type": "code",
   "execution_count": 6,
   "metadata": {},
   "outputs": [],
   "source": [
    "kmeans = KMeans(k = 4, max_iter = 10, cluster_method = 'kmeans++', distance_metric='euclidean', random_state = 42)\n",
    "kmeans.fit(df_customers, scaling_method='standardization')#, 'Average Purchase Amount', 'Spending Score (1-100)'])\n",
    "kmeans.perform(show_initial_centroids=False, plot_data=False)"
   ]
  },
  {
   "cell_type": "code",
   "execution_count": 7,
   "metadata": {},
   "outputs": [
    {
     "name": "stdout",
     "output_type": "stream",
     "text": [
      "Cluster Array\n",
      " [1 0 3 2 2 3 0 3 3 0 2 0 3 3 2 1 3 1 2 2 2 1 0 2 0 2 1 1 1 0 2 0 0 2 2 1 2\n",
      " 3 0 3 3 1 0 0 3 0 3 3 3 0 1 1 1 3 2 0 2 1 2 0 1 2 3 3 0 1 0 1 1 1 2 2 2 1\n",
      " 3 3 0 2 3 1 2 3 2 3 1 0 1 1 2 0 2 2 0 2 0 0 3 1 3 2 3 2 2 0 1 0 1 1 2 0 3\n",
      " 1 1 1 1 3 3 2 3 1 0 2 1 3 3 1 0 3 2 3 2 1 2 2 0 1 2 2 1 1 2 2 3 2 3 0 3 1\n",
      " 2 1 3 1 3 3 2 2 3 2 1 3 1 0 2 3 3 2 2 0 1 1 0 0 0 3 3 2 0 2 0 3 3 3 3 1 0\n",
      " 3 3 3 3 0 0 3 2 2 2 2 1 0 0 2] \n",
      "\n",
      "Cluster Centroids\n",
      " [[-0.41875592 -0.32216956 -0.37865398 -0.53916223 -0.16914299]\n",
      " [-0.42469861 -0.33366574 -0.34111389 -0.54616772  3.26798889]\n",
      " [-0.40646905 -0.31779575 -0.37451888 -0.53349799  1.10585835]\n",
      " [-0.41123099 -0.31183046 -0.36737311 -0.53480138  2.21465498]]\n"
     ]
    }
   ],
   "source": [
    "print(\"Cluster Array\\n\", kmeans.get_cluster_array(), \"\\n\")\n",
    "print(\"Cluster Centroids\\n\", kmeans.get_centroids())"
   ]
  },
  {
   "cell_type": "code",
   "execution_count": 8,
   "metadata": {},
   "outputs": [
    {
     "data": {
      "image/png": "[encoded data removed]",
      "text/plain": [
       "<Figure size 1000x800 with 1 Axes>"
      ]
     },
     "metadata": {},
     "output_type": "display_data"
    }
   ],
   "source": [
    "kmeans = KMeans(k = 4, max_iter = 10, cluster_method = 'kmeans++', distance_metric='euclidean', random_state = 42)\n",
    "kmeans.fit(df_customers[['Annual Income (k$)', 'Spending Score (1-100)']], scaling_method='standardization')#, 'Average Purchase Amount', 'Spending Score (1-100)'])\n",
    "kmeans.perform(show_initial_centroids=True, plot_data=True, gif_path='./kmeans')"
   ]
  },
  {
   "cell_type": "code",
   "execution_count": 9,
   "metadata": {},
   "outputs": [
    {
     "data": {
      "application/vnd.plotly.v1+json": {
       "config": {
        "plotlyServerURL": "https://plot.ly"
       },
       "data": [
        {
         "marker": {
          "color": "#3366CC",
          "size": 5
         },
         "mode": "markers",
         "name": "Cluster 0",
         "type": "scatter3d",
         "x": [
          -0.7033271811638733,
          -0.6924107252378546,
          -0.6887719065958484,
          -0.6887719065958484,
          -0.6669389947438111,
          -0.6560225388177924,
          -0.6523837201757862,
          -0.64874490153378,
          -0.6378284456077613,
          -0.6232731710397365,
          -0.615995533755724,
          -0.615995533755724,
          -0.615995533755724,
          -0.6123567151137178,
          -0.6014402591876992,
          -0.5905238032616805,
          -0.5832461659776681,
          -0.5832461659776681,
          -0.5614132541256308,
          -0.5614132541256308,
          -0.546857979557606,
          -0.5395803422735935,
          -0.5395803422735935,
          -0.5395803422735935,
          -0.5323027049895811,
          -0.5323027049895811,
          -0.5286638863475749,
          -0.5141086117795499,
          -0.4995533372115251,
          -0.4922756999275127,
          -0.4777204253594878,
          -0.47044278807547535,
          -0.44497105758143185,
          -0.44133223893942564,
          -0.44133223893942564,
          -0.44133223893942564,
          -0.4376934202974194,
          -0.41949932708738835,
          -0.397666415235351,
          -0.38311114066732616,
          -0.38311114066732616,
          -0.2994183119011832,
          -0.25939130683911477
         ],
         "y": [
          -0.4631651507914629,
          -0.7360765489419292,
          -0.4959145185695189,
          -0.397666415235351,
          -0.7397153675839354,
          -0.7069659998058795,
          -0.44133223893942564,
          -0.4922756999275127,
          -0.7433541862259416,
          -0.6633001761018049,
          -0.6269119896817427,
          -0.5359415236315873,
          -0.5213862490635625,
          -0.6050790778297054,
          -0.6087178964717116,
          -0.5905238032616805,
          -0.5723297100516495,
          -0.5759685286936557,
          -0.565052072767637,
          -0.5905238032616805,
          -0.5905238032616805,
          -0.5796073473356619,
          -0.6050790778297054,
          -0.5686908914096432,
          -0.5577744354836246,
          -0.6050790778297054,
          -0.5832461659776681,
          -0.5541356168416184,
          -0.6305508083237489,
          -0.7397153675839354,
          -0.40494405251936344,
          -0.4558875135074505,
          -0.41222168980337587,
          -0.7106048184478857,
          -0.48499806264350026,
          -0.7215212743739043,
          -0.7033271811638733,
          -0.7069659998058795,
          -0.615995533755724,
          -0.44860987622343806,
          -0.6742166320278236,
          -0.4886368812855065,
          -0.6924107252378546
         ],
         "z": [
          -0.06314981747571947,
          -0.635863483541078,
          -0.4907473960978701,
          -0.5560641907218816,
          -0.49289429909665367,
          -0.6769093578229082,
          -0.47175276278659756,
          -0.476628779766886,
          -0.08465523564997621,
          -0.04783039099287338,
          -0.3340234771866623,
          -0.26346678371816173,
          -0.48667191921882313,
          0.04113872480417869,
          -0.6636640579660055,
          -0.2642673238194031,
          -0.6751263366883251,
          -0.7178460675454781,
          -0.46822310870385164,
          -0.10310404616494781,
          0.11646227069370733,
          -0.6560225388177924,
          -0.6818945393624566,
          -0.6763999232130272,
          -0.18155697608660185,
          -0.2653225812255849,
          -0.5826275668085271,
          0.040884007499238276,
          -0.24308939932292697,
          -0.6482354669238991,
          -0.2956339405134967,
          -0.6219995845150343,
          -0.6670481593030713,
          -0.6930657125934158,
          -0.5291733209574557,
          -0.5406719878661953,
          -0.19498421687560477,
          -0.581463144843085,
          0.03935570366959561,
          -0.49744282239916143,
          -0.13891002160228888,
          -0.5185843587092176,
          -0.6724336108932404
         ]
        },
        {
         "marker": {
          "color": "#3366CC",
          "line": {
           "color": "black",
           "width": 2
          },
          "size": 8,
          "symbol": "diamond"
         },
         "mode": "markers",
         "name": "Centroid 0",
         "type": "scatter3d",
         "x": [
          -0.5386494816907544
         ],
         "y": [
          -0.5862079951048826
         ],
         "z": [
          -0.40980483723556893
         ]
        },
        {
         "marker": {
          "color": "#DC3912",
          "size": 5
         },
         "mode": "markers",
         "name": "Cluster 1",
         "type": "scatter3d",
         "x": [
          -0.7033271811638733,
          -0.6851330879538422,
          -0.681494269311836,
          -0.6705778133858173,
          -0.6560225388177924,
          -0.6560225388177924,
          -0.6523837201757862,
          -0.6378284456077613,
          -0.6196343523977302,
          -0.6050790778297054,
          -0.6050790778297054,
          -0.6014402591876992,
          -0.597801440545693,
          -0.5905238032616805,
          -0.5832461659776681,
          -0.5832461659776681,
          -0.5832461659776681,
          -0.5832461659776681,
          -0.5759685286936557,
          -0.5614132541256308,
          -0.5614132541256308,
          -0.5504967981996122,
          -0.5504967981996122,
          -0.5395803422735935,
          -0.5323027049895811,
          -0.5286638863475749,
          -0.5286638863475749,
          -0.5286638863475749,
          -0.5250250677055687,
          -0.5250250677055687,
          -0.5213862490635625,
          -0.5141086117795499,
          -0.5068309744955375,
          -0.5031921558535313,
          -0.4995533372115251,
          -0.4922756999275127,
          -0.4886368812855065,
          -0.4886368812855065,
          -0.4777204253594878,
          -0.47408160671748156,
          -0.47408160671748156,
          -0.47408160671748156,
          -0.47044278807547535,
          -0.44133223893942564,
          -0.44133223893942564,
          -0.4013052338773572,
          -0.2994183119011832
         ],
         "y": [
          -0.615995533755724,
          -0.47044278807547535,
          -0.5177474304215561,
          -0.4922756999275127,
          -0.6414672642497675,
          -0.5359415236315873,
          -0.6451060828917737,
          -0.4631651507914629,
          -0.42313814572939457,
          -0.5686908914096432,
          -0.5395803422735935,
          -0.5614132541256308,
          -0.5905238032616805,
          -0.5541356168416184,
          -0.5432191609155997,
          -0.5832461659776681,
          -0.5432191609155997,
          -0.5868849846196743,
          -0.5541356168416184,
          -0.6050790778297054,
          -0.5504967981996122,
          -0.546857979557606,
          -0.5577744354836246,
          -0.5759685286936557,
          -0.5541356168416184,
          -0.5759685286936557,
          -0.5905238032616805,
          -0.5614132541256308,
          -0.6050790778297054,
          -0.5905238032616805,
          -0.5832461659776681,
          -0.5504967981996122,
          -0.546857979557606,
          -0.4777204253594878,
          -0.48499806264350026,
          -0.4376934202974194,
          -0.7215212743739043,
          -0.4959145185695189,
          -0.4886368812855065,
          -0.430415783013407,
          -0.4376934202974194,
          -0.7542706421519603,
          -0.6305508083237489,
          -0.6596613574597986,
          -0.5286638863475749,
          -0.4376934202974194,
          -0.6560225388177924
         ],
         "z": [
          2.3883950780167087,
          2.6698940881623097,
          2.7719993392570044,
          2.503672852595466,
          2.6462053788028492,
          2.258016206073626,
          2.802419863104176,
          2.230252019835119,
          2.4596795352136107,
          2.170793723224737,
          2.8078780910671854,
          2.748456182643224,
          2.701660974907024,
          2.0568623115435223,
          2.496795485362074,
          2.7230572285220207,
          2.4040419981773358,
          2.654792990797984,
          2.0989634432315345,
          2.571791537573822,
          2.765886123938434,
          2.509604126981936,
          2.3523343852744274,
          2.5813252424158786,
          2.44166738293568,
          2.3232238361383777,
          2.671859050228993,
          2.238766855457413,
          2.823852504905593,
          2.178908288796411,
          2.6151662557865363,
          2.5642955711712894,
          2.3681996345535743,
          2.7271690935874875,
          2.3402898955693865,
          2.5381688533216846,
          2.6059236564358406,
          2.527179621022826,
          2.3133626376185408,
          2.3095054898580143,
          2.298370704813475,
          2.1328772329750323,
          2.515426236809146,
          2.2278503995313943,
          2.2422237331673194,
          2.595698576051803,
          2.781533044099061
         ]
        },
        {
         "marker": {
          "color": "#DC3912",
          "line": {
           "color": "black",
           "width": 2
          },
          "size": 8,
          "symbol": "diamond"
         },
         "mode": "markers",
         "name": "Centroid 1",
         "type": "scatter3d",
         "x": [
          -0.5483289913490553
         ],
         "y": [
          -0.5546001468810239
         ],
         "z": [
          2.4841765268416354
         ]
        },
        {
         "marker": {
          "color": "#FF9900",
          "size": 5
         },
         "mode": "markers",
         "name": "Cluster 2",
         "type": "scatter3d",
         "x": [
          -0.6996883625218671,
          -0.6960495438798608,
          -0.6887719065958484,
          -0.6851330879538422,
          -0.6742166320278236,
          -0.6742166320278236,
          -0.6705778133858173,
          -0.6669389947438111,
          -0.6560225388177924,
          -0.64874490153378,
          -0.6378284456077613,
          -0.6378284456077613,
          -0.6341896269657551,
          -0.6014402591876992,
          -0.597801440545693,
          -0.5905238032616805,
          -0.5905238032616805,
          -0.5796073473356619,
          -0.5796073473356619,
          -0.5759685286936557,
          -0.5614132541256308,
          -0.5614132541256308,
          -0.5614132541256308,
          -0.546857979557606,
          -0.5432191609155997,
          -0.5432191609155997,
          -0.5395803422735935,
          -0.5359415236315873,
          -0.5323027049895811,
          -0.5323027049895811,
          -0.5286638863475749,
          -0.5213862490635625,
          -0.5141086117795499,
          -0.4995533372115251,
          -0.4995533372115251,
          -0.4959145185695189,
          -0.4959145185695189,
          -0.4922756999275127,
          -0.4922756999275127,
          -0.48499806264350026,
          -0.48499806264350026,
          -0.481359244001494,
          -0.47408160671748156,
          -0.47408160671748156,
          -0.47408160671748156,
          -0.47408160671748156,
          -0.4631651507914629,
          -0.44860987622343806,
          -0.44497105758143185,
          -0.4376934202974194,
          -0.4376934202974194,
          -0.346722954247264,
          -0.346722954247264,
          -0.32125122375322046,
          -0.32125122375322046,
          -0.25939130683911477
         ],
         "y": [
          -0.4777204253594878,
          -0.6123567151137178,
          -0.7069659998058795,
          -0.7106048184478857,
          -0.6523837201757862,
          -0.4013052338773572,
          -0.6305508083237489,
          -0.4922756999275127,
          -0.4595263321494567,
          -0.7433541862259416,
          -0.42313814572939457,
          -0.7069659998058795,
          -0.6960495438798608,
          -0.5941626219036867,
          -0.5759685286936557,
          -0.5723297100516495,
          -0.5577744354836246,
          -0.5577744354836246,
          -0.6050790778297054,
          -0.5796073473356619,
          -0.5832461659776681,
          -0.5723297100516495,
          -0.6087178964717116,
          -0.5395803422735935,
          -0.5577744354836246,
          -0.6087178964717116,
          -0.6123567151137178,
          -0.5796073473356619,
          -0.5832461659776681,
          -0.5432191609155997,
          -0.6014402591876992,
          -0.5432191609155997,
          -0.6123567151137178,
          -0.7178824557318981,
          -0.7251600930159106,
          -0.6341896269657551,
          -0.4995533372115251,
          -0.732437730299923,
          -0.4922756999275127,
          -0.7397153675839354,
          -0.41949932708738835,
          -0.44133223893942564,
          -0.6778554506698298,
          -0.6996883625218671,
          -0.4340546016554132,
          -0.47408160671748156,
          -0.7397153675839354,
          -0.48499806264350026,
          -0.6851330879538422,
          -0.44497105758143185,
          -0.5068309744955375,
          -0.7287989116579168,
          -0.4267769643714008,
          -0.6996883625218671,
          -0.47044278807547535,
          -0.4558875135074505
         ],
         "z": [
          0.3892281160984934,
          0.580993858532221,
          0.2649988476604012,
          0.7827663522314656,
          0.8096936101823118,
          0.3558237609648763,
          0.22107830665138617,
          0.5309601022046355,
          0.960195149215689,
          0.7220344690963819,
          0.5809574703458009,
          0.15885450787307978,
          0.7208336589445199,
          0.7651544700041557,
          0.6883390084714044,
          0.6970721732122194,
          0.9295926844364166,
          0.36783186248349686,
          0.7619886977856103,
          0.5752809132642712,
          0.7535102503497358,
          0.8164254246700232,
          0.8621653750000415,
          0.9612140184354507,
          0.31077518617683936,
          0.540602971605952,
          1.0098650236790738,
          0.5067983464217143,
          0.22791928569835784,
          0.4970099242747176,
          0.9132907769202286,
          1.0584068643634366,
          0.4566554255348685,
          0.751326959164532,
          0.7604603939559675,
          1.1059298358280378,
          0.34396121219193604,
          1.026348872127362,
          1.0022235045308607,
          0.518297013330454,
          0.7702488161029643,
          0.9050670467892946,
          0.28191935434573,
          0.21634784241677804,
          0.8774848014828877,
          0.4126621081530134,
          1.0283138341940452,
          1.1156454816021943,
          0.7461234485064631,
          0.5087269203019774,
          0.49919321545992135,
          0.6593376238946149,
          0.2646349657962005,
          0.5527202376838327,
          1.0293327034138071,
          1.01343106594824
         ]
        },
        {
         "marker": {
          "color": "#FF9900",
          "line": {
           "color": "black",
           "width": 2
          },
          "size": 8,
          "symbol": "diamond"
         },
         "mode": "markers",
         "name": "Centroid 2",
         "type": "scatter3d",
         "x": [
          -0.5349668400667646
         ],
         "y": [
          -0.5827263347430962
         ],
         "z": [
          0.6637152526787569
         ]
        },
        {
         "marker": {
          "color": "#109618",
          "size": 5
         },
         "mode": "markers",
         "name": "Cluster 3",
         "type": "scatter3d",
         "x": [
          -0.6996883625218671,
          -0.6960495438798608,
          -0.6924107252378546,
          -0.6887719065958484,
          -0.6851330879538422,
          -0.6851330879538422,
          -0.681494269311836,
          -0.6341896269657551,
          -0.6232731710397365,
          -0.6196343523977302,
          -0.615995533755724,
          -0.6123567151137178,
          -0.6123567151137178,
          -0.6123567151137178,
          -0.6014402591876992,
          -0.5868849846196743,
          -0.5868849846196743,
          -0.5614132541256308,
          -0.5614132541256308,
          -0.5614132541256308,
          -0.5614132541256308,
          -0.5614132541256308,
          -0.5395803422735935,
          -0.5359415236315873,
          -0.5323027049895811,
          -0.5286638863475749,
          -0.5213862490635625,
          -0.5213862490635625,
          -0.5141086117795499,
          -0.5068309744955375,
          -0.5031921558535313,
          -0.4995533372115251,
          -0.4995533372115251,
          -0.481359244001494,
          -0.4777204253594878,
          -0.4777204253594878,
          -0.47408160671748156,
          -0.47408160671748156,
          -0.47408160671748156,
          -0.47408160671748156,
          -0.47408160671748156,
          -0.4631651507914629,
          -0.44860987622343806,
          -0.44133223893942564,
          -0.4376934202974194,
          -0.41949932708738835,
          -0.40494405251936344,
          -0.40494405251936344,
          -0.4013052338773572,
          -0.397666415235351,
          -0.3903887779513386,
          -0.3903887779513386,
          -0.38311114066732616,
          -0.38311114066732616
         ],
         "y": [
          -0.7360765489419292,
          -0.481359244001494,
          -0.41586050844538214,
          -0.7469930048679478,
          -0.7033271811638733,
          -0.4777204253594878,
          -0.6305508083237489,
          -0.4922756999275127,
          -0.48499806264350026,
          -0.6305508083237489,
          -0.6560225388177924,
          -0.5577744354836246,
          -0.5868849846196743,
          -0.6050790778297054,
          -0.5395803422735935,
          -0.5686908914096432,
          -0.5432191609155997,
          -0.5868849846196743,
          -0.5614132541256308,
          -0.5686908914096432,
          -0.5577744354836246,
          -0.597801440545693,
          -0.5868849846196743,
          -0.6050790778297054,
          -0.6087178964717116,
          -0.5686908914096432,
          -0.5759685286936557,
          -0.6014402591876992,
          -0.6014402591876992,
          -0.4267769643714008,
          -0.6523837201757862,
          -0.41222168980337587,
          -0.48499806264350026,
          -0.6123567151137178,
          -0.7142436370898919,
          -0.6269119896817427,
          -0.6960495438798608,
          -0.6851330879538422,
          -0.481359244001494,
          -0.7542706421519603,
          -0.4922756999275127,
          -0.41949932708738835,
          -0.6633001761018049,
          -0.42313814572939457,
          -0.7106048184478857,
          -0.430415783013407,
          -0.6414672642497675,
          -0.44497105758143185,
          -0.7033271811638733,
          -0.40494405251936344,
          -0.6705778133858173,
          -0.5104697931375437,
          -0.6960495438798608,
          -0.5068309744955375
         ],
         "z": [
          1.2752804554270072,
          1.393432896732949,
          2.0193460913444383,
          1.3737104996932752,
          1.681445392247741,
          1.5095112114129474,
          1.8894402658248164,
          1.9072704771706468,
          1.1514514570395356,
          1.4528548051569103,
          2.017199188345655,
          1.924991523957217,
          1.937254342780778,
          1.677151586250174,
          1.9469699885549347,
          1.200429955960939,
          1.489497708881913,
          1.2122561165474592,
          1.7153955701776593,
          1.3099583970853264,
          1.910290696643512,
          1.210909753649917,
          1.2834677973715212,
          1.281029788881377,
          1.3036996290210754,
          1.8185924668649551,
          1.457294163900158,
          1.8993014643446533,
          1.581996478761711,
          2.004135829420852,
          1.8558539697590988,
          1.31206891189769,
          1.7336988279469503,
          1.6301016612090333,
          1.3116322536606493,
          2.033901365912463,
          1.702586928557797,
          1.7407581361124422,
          1.5441891530712664,
          1.655027568906776,
          1.7284953172888813,
          1.2435863450551328,
          1.3076659413408624,
          1.352423410637539,
          1.1892223945435603,
          1.79210186715115,
          1.5167160723241198,
          1.7629913180151002,
          1.8565453453010803,
          1.4402281044691492,
          1.7291139164580225,
          1.2907818228419536,
          2.0099215510616424,
          1.6787526664526564
         ]
        },
        {
         "marker": {
          "color": "#109618",
          "line": {
           "color": "black",
           "width": 2
          },
          "size": 8,
          "symbol": "diamond"
         },
         "mode": "markers",
         "name": "Centroid 3",
         "type": "scatter3d",
         "x": [
          -0.5299442114253177
         ],
         "y": [
          -0.5767097695281388
         ],
         "z": [
          1.5972950157301307
         ]
        }
       ],
       "layout": {
        "height": 1000,
        "scene": {
         "xaxis": {
          "title": {
           "text": "Annual Income (k$)"
          }
         },
         "yaxis": {
          "title": {
           "text": "Spending Score (1-100)"
          }
         },
         "zaxis": {
          "showticklabels": false,
          "title": {
           "text": "Average Purchase Amount"
          }
         }
        },
        "template": {
         "data": {
          "bar": [
           {
            "error_x": {
             "color": "#2a3f5f"
            },
            "error_y": {
             "color": "#2a3f5f"
            },
            "marker": {
             "line": {
              "color": "#E5ECF6",
              "width": 0.5
             },
             "pattern": {
              "fillmode": "overlay",
              "size": 10,
              "solidity": 0.2
             }
            },
            "type": "bar"
           }
          ],
          "barpolar": [
           {
            "marker": {
             "line": {
              "color": "#E5ECF6",
              "width": 0.5
             },
             "pattern": {
              "fillmode": "overlay",
              "size": 10,
              "solidity": 0.2
             }
            },
            "type": "barpolar"
           }
          ],
          "carpet": [
           {
            "aaxis": {
             "endlinecolor": "#2a3f5f",
             "gridcolor": "white",
             "linecolor": "white",
             "minorgridcolor": "white",
             "startlinecolor": "#2a3f5f"
            },
            "baxis": {
             "endlinecolor": "#2a3f5f",
             "gridcolor": "white",
             "linecolor": "white",
             "minorgridcolor": "white",
             "startlinecolor": "#2a3f5f"
            },
            "type": "carpet"
           }
          ],
          "choropleth": [
           {
            "colorbar": {
             "outlinewidth": 0,
             "ticks": ""
            },
            "type": "choropleth"
           }
          ],
          "contour": [
           {
            "colorbar": {
             "outlinewidth": 0,
             "ticks": ""
            },
            "colorscale": [
             [
              0,
              "#0d0887"
             ],
             [
              0.1111111111111111,
              "#46039f"
             ],
             [
              0.2222222222222222,
              "#7201a8"
             ],
             [
              0.3333333333333333,
              "#9c179e"
             ],
             [
              0.4444444444444444,
              "#bd3786"
             ],
             [
              0.5555555555555556,
              "#d8576b"
             ],
             [
              0.6666666666666666,
              "#ed7953"
             ],
             [
              0.7777777777777778,
              "#fb9f3a"
             ],
             [
              0.8888888888888888,
              "#fdca26"
             ],
             [
              1,
              "#f0f921"
             ]
            ],
            "type": "contour"
           }
          ],
          "contourcarpet": [
           {
            "colorbar": {
             "outlinewidth": 0,
             "ticks": ""
            },
            "type": "contourcarpet"
           }
          ],
          "heatmap": [
           {
            "colorbar": {
             "outlinewidth": 0,
             "ticks": ""
            },
            "colorscale": [
             [
              0,
              "#0d0887"
             ],
             [
              0.1111111111111111,
              "#46039f"
             ],
             [
              0.2222222222222222,
              "#7201a8"
             ],
             [
              0.3333333333333333,
              "#9c179e"
             ],
             [
              0.4444444444444444,
              "#bd3786"
             ],
             [
              0.5555555555555556,
              "#d8576b"
             ],
             [
              0.6666666666666666,
              "#ed7953"
             ],
             [
              0.7777777777777778,
              "#fb9f3a"
             ],
             [
              0.8888888888888888,
              "#fdca26"
             ],
             [
              1,
              "#f0f921"
             ]
            ],
            "type": "heatmap"
           }
          ],
          "heatmapgl": [
           {
            "colorbar": {
             "outlinewidth": 0,
             "ticks": ""
            },
            "colorscale": [
             [
              0,
              "#0d0887"
             ],
             [
              0.1111111111111111,
              "#46039f"
             ],
             [
              0.2222222222222222,
              "#7201a8"
             ],
             [
              0.3333333333333333,
              "#9c179e"
             ],
             [
              0.4444444444444444,
              "#bd3786"
             ],
             [
              0.5555555555555556,
              "#d8576b"
             ],
             [
              0.6666666666666666,
              "#ed7953"
             ],
             [
              0.7777777777777778,
              "#fb9f3a"
             ],
             [
              0.8888888888888888,
              "#fdca26"
             ],
             [
              1,
              "#f0f921"
             ]
            ],
            "type": "heatmapgl"
           }
          ],
          "histogram": [
           {
            "marker": {
             "pattern": {
              "fillmode": "overlay",
              "size": 10,
              "solidity": 0.2
             }
            },
            "type": "histogram"
           }
          ],
          "histogram2d": [
           {
            "colorbar": {
             "outlinewidth": 0,
             "ticks": ""
            },
            "colorscale": [
             [
              0,
              "#0d0887"
             ],
             [
              0.1111111111111111,
              "#46039f"
             ],
             [
              0.2222222222222222,
              "#7201a8"
             ],
             [
              0.3333333333333333,
              "#9c179e"
             ],
             [
              0.4444444444444444,
              "#bd3786"
             ],
             [
              0.5555555555555556,
              "#d8576b"
             ],
             [
              0.6666666666666666,
              "#ed7953"
             ],
             [
              0.7777777777777778,
              "#fb9f3a"
             ],
             [
              0.8888888888888888,
              "#fdca26"
             ],
             [
              1,
              "#f0f921"
             ]
            ],
            "type": "histogram2d"
           }
          ],
          "histogram2dcontour": [
           {
            "colorbar": {
             "outlinewidth": 0,
             "ticks": ""
            },
            "colorscale": [
             [
              0,
              "#0d0887"
             ],
             [
              0.1111111111111111,
              "#46039f"
             ],
             [
              0.2222222222222222,
              "#7201a8"
             ],
             [
              0.3333333333333333,
              "#9c179e"
             ],
             [
              0.4444444444444444,
              "#bd3786"
             ],
             [
              0.5555555555555556,
              "#d8576b"
             ],
             [
              0.6666666666666666,
              "#ed7953"
             ],
             [
              0.7777777777777778,
              "#fb9f3a"
             ],
             [
              0.8888888888888888,
              "#fdca26"
             ],
             [
              1,
              "#f0f921"
             ]
            ],
            "type": "histogram2dcontour"
           }
          ],
          "mesh3d": [
           {
            "colorbar": {
             "outlinewidth": 0,
             "ticks": ""
            },
            "type": "mesh3d"
           }
          ],
          "parcoords": [
           {
            "line": {
             "colorbar": {
              "outlinewidth": 0,
              "ticks": ""
             }
            },
            "type": "parcoords"
           }
          ],
          "pie": [
           {
            "automargin": true,
            "type": "pie"
           }
          ],
          "scatter": [
           {
            "fillpattern": {
             "fillmode": "overlay",
             "size": 10,
             "solidity": 0.2
            },
            "type": "scatter"
           }
          ],
          "scatter3d": [
           {
            "line": {
             "colorbar": {
              "outlinewidth": 0,
              "ticks": ""
             }
            },
            "marker": {
             "colorbar": {
              "outlinewidth": 0,
              "ticks": ""
             }
            },
            "type": "scatter3d"
           }
          ],
          "scattercarpet": [
           {
            "marker": {
             "colorbar": {
              "outlinewidth": 0,
              "ticks": ""
             }
            },
            "type": "scattercarpet"
           }
          ],
          "scattergeo": [
           {
            "marker": {
             "colorbar": {
              "outlinewidth": 0,
              "ticks": ""
             }
            },
            "type": "scattergeo"
           }
          ],
          "scattergl": [
           {
            "marker": {
             "colorbar": {
              "outlinewidth": 0,
              "ticks": ""
             }
            },
            "type": "scattergl"
           }
          ],
          "scattermapbox": [
           {
            "marker": {
             "colorbar": {
              "outlinewidth": 0,
              "ticks": ""
             }
            },
            "type": "scattermapbox"
           }
          ],
          "scatterpolar": [
           {
            "marker": {
             "colorbar": {
              "outlinewidth": 0,
              "ticks": ""
             }
            },
            "type": "scatterpolar"
           }
          ],
          "scatterpolargl": [
           {
            "marker": {
             "colorbar": {
              "outlinewidth": 0,
              "ticks": ""
             }
            },
            "type": "scatterpolargl"
           }
          ],
          "scatterternary": [
           {
            "marker": {
             "colorbar": {
              "outlinewidth": 0,
              "ticks": ""
             }
            },
            "type": "scatterternary"
           }
          ],
          "surface": [
           {
            "colorbar": {
             "outlinewidth": 0,
             "ticks": ""
            },
            "colorscale": [
             [
              0,
              "#0d0887"
             ],
             [
              0.1111111111111111,
              "#46039f"
             ],
             [
              0.2222222222222222,
              "#7201a8"
             ],
             [
              0.3333333333333333,
              "#9c179e"
             ],
             [
              0.4444444444444444,
              "#bd3786"
             ],
             [
              0.5555555555555556,
              "#d8576b"
             ],
             [
              0.6666666666666666,
              "#ed7953"
             ],
             [
              0.7777777777777778,
              "#fb9f3a"
             ],
             [
              0.8888888888888888,
              "#fdca26"
             ],
             [
              1,
              "#f0f921"
             ]
            ],
            "type": "surface"
           }
          ],
          "table": [
           {
            "cells": {
             "fill": {
              "color": "#EBF0F8"
             },
             "line": {
              "color": "white"
             }
            },
            "header": {
             "fill": {
              "color": "#C8D4E3"
             },
             "line": {
              "color": "white"
             }
            },
            "type": "table"
           }
          ]
         },
         "layout": {
          "annotationdefaults": {
           "arrowcolor": "#2a3f5f",
           "arrowhead": 0,
           "arrowwidth": 1
          },
          "autotypenumbers": "strict",
          "coloraxis": {
           "colorbar": {
            "outlinewidth": 0,
            "ticks": ""
           }
          },
          "colorscale": {
           "diverging": [
            [
             0,
             "#8e0152"
            ],
            [
             0.1,
             "#c51b7d"
            ],
            [
             0.2,
             "#de77ae"
            ],
            [
             0.3,
             "#f1b6da"
            ],
            [
             0.4,
             "#fde0ef"
            ],
            [
             0.5,
             "#f7f7f7"
            ],
            [
             0.6,
             "#e6f5d0"
            ],
            [
             0.7,
             "#b8e186"
            ],
            [
             0.8,
             "#7fbc41"
            ],
            [
             0.9,
             "#4d9221"
            ],
            [
             1,
             "#276419"
            ]
           ],
           "sequential": [
            [
             0,
             "#0d0887"
            ],
            [
             0.1111111111111111,
             "#46039f"
            ],
            [
             0.2222222222222222,
             "#7201a8"
            ],
            [
             0.3333333333333333,
             "#9c179e"
            ],
            [
             0.4444444444444444,
             "#bd3786"
            ],
            [
             0.5555555555555556,
             "#d8576b"
            ],
            [
             0.6666666666666666,
             "#ed7953"
            ],
            [
             0.7777777777777778,
             "#fb9f3a"
            ],
            [
             0.8888888888888888,
             "#fdca26"
            ],
            [
             1,
             "#f0f921"
            ]
           ],
           "sequentialminus": [
            [
             0,
             "#0d0887"
            ],
            [
             0.1111111111111111,
             "#46039f"
            ],
            [
             0.2222222222222222,
             "#7201a8"
            ],
            [
             0.3333333333333333,
             "#9c179e"
            ],
            [
             0.4444444444444444,
             "#bd3786"
            ],
            [
             0.5555555555555556,
             "#d8576b"
            ],
            [
             0.6666666666666666,
             "#ed7953"
            ],
            [
             0.7777777777777778,
             "#fb9f3a"
            ],
            [
             0.8888888888888888,
             "#fdca26"
            ],
            [
             1,
             "#f0f921"
            ]
           ]
          },
          "colorway": [
           "#636efa",
           "#EF553B",
           "#00cc96",
           "#ab63fa",
           "#FFA15A",
           "#19d3f3",
           "#FF6692",
           "#B6E880",
           "#FF97FF",
           "#FECB52"
          ],
          "font": {
           "color": "#2a3f5f"
          },
          "geo": {
           "bgcolor": "white",
           "lakecolor": "white",
           "landcolor": "#E5ECF6",
           "showlakes": true,
           "showland": true,
           "subunitcolor": "white"
          },
          "hoverlabel": {
           "align": "left"
          },
          "hovermode": "closest",
          "mapbox": {
           "style": "light"
          },
          "paper_bgcolor": "white",
          "plot_bgcolor": "#E5ECF6",
          "polar": {
           "angularaxis": {
            "gridcolor": "white",
            "linecolor": "white",
            "ticks": ""
           },
           "bgcolor": "#E5ECF6",
           "radialaxis": {
            "gridcolor": "white",
            "linecolor": "white",
            "ticks": ""
           }
          },
          "scene": {
           "xaxis": {
            "backgroundcolor": "#E5ECF6",
            "gridcolor": "white",
            "gridwidth": 2,
            "linecolor": "white",
            "showbackground": true,
            "ticks": "",
            "zerolinecolor": "white"
           },
           "yaxis": {
            "backgroundcolor": "#E5ECF6",
            "gridcolor": "white",
            "gridwidth": 2,
            "linecolor": "white",
            "showbackground": true,
            "ticks": "",
            "zerolinecolor": "white"
           },
           "zaxis": {
            "backgroundcolor": "#E5ECF6",
            "gridcolor": "white",
            "gridwidth": 2,
            "linecolor": "white",
            "showbackground": true,
            "ticks": "",
            "zerolinecolor": "white"
           }
          },
          "shapedefaults": {
           "line": {
            "color": "#2a3f5f"
           }
          },
          "ternary": {
           "aaxis": {
            "gridcolor": "white",
            "linecolor": "white",
            "ticks": ""
           },
           "baxis": {
            "gridcolor": "white",
            "linecolor": "white",
            "ticks": ""
           },
           "bgcolor": "#E5ECF6",
           "caxis": {
            "gridcolor": "white",
            "linecolor": "white",
            "ticks": ""
           }
          },
          "title": {
           "x": 0.05
          },
          "xaxis": {
           "automargin": true,
           "gridcolor": "white",
           "linecolor": "white",
           "ticks": "",
           "title": {
            "standoff": 15
           },
           "zerolinecolor": "white",
           "zerolinewidth": 2
          },
          "yaxis": {
           "automargin": true,
           "gridcolor": "white",
           "linecolor": "white",
           "ticks": "",
           "title": {
            "standoff": 15
           },
           "zerolinecolor": "white",
           "zerolinewidth": 2
          }
         }
        },
        "title": {
         "text": "Current State Iteration: 10"
        },
        "width": 1200
       }
      }
     },
     "metadata": {},
     "output_type": "display_data"
    }
   ],
   "source": [
    "kmeans = KMeans(k = 4, max_iter = 10, cluster_method = 'kmeans++', distance_metric='euclidean', random_state = 42)\n",
    "kmeans.fit(df_customers[['Annual Income (k$)', 'Spending Score (1-100)', 'Average Purchase Amount']], scaling_method='standardization')#, 'Average Purchase Amount', 'Spending Score (1-100)'])\n",
    "kmeans.perform(show_initial_centroids=True, plot_data=True)"
   ]
  }
 ],
 "metadata": {
  "kernelspec": {
   "display_name": "Python 3",
   "language": "python",
   "name": "python3"
  },
  "language_info": {
   "codemirror_mode": {
    "name": "ipython",
    "version": 3
   },
   "file_extension": ".py",
   "mimetype": "text/x-python",
   "name": "python",
   "nbconvert_exporter": "python",
   "pygments_lexer": "ipython3",
   "version": "3.11.4"
  }
 },
 "nbformat": 4,
 "nbformat_minor": 2
}
