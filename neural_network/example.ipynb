{
 "cells": [
  {
   "cell_type": "code",
   "execution_count": 1,
   "metadata": {},
   "outputs": [],
   "source": [
    "import numpy as np\n",
    "import pandas as pd\n",
    "import random"
   ]
  },
  {
   "cell_type": "code",
   "execution_count": 7,
   "metadata": {},
   "outputs": [
    {
     "data": {
      "text/plain": [
       "5"
      ]
     },
     "execution_count": 7,
     "metadata": {},
     "output_type": "execute_result"
    }
   ],
   "source": [
    "data = {\n",
    "    'Column1': np.random.randint(1, 100, 10),\n",
    "    'Column2': np.random.rand(10),\n",
    "    'Column3': ['A', 'B', 'C', 'D', 'E', 'F', 'G', 'H', 'I', 'J'],\n",
    "    'Column4': np.random.choice([True, False], size=10),\n",
    "    'Column5': pd.date_range('2022-01-01', periods=10)\n",
    "}\n",
    "\n",
    "sample_df = pd.DataFrame(data)\n",
    "\n",
    "len(sample_df.to_numpy())\n",
    "sample_df.to_numpy().shape[1]"
   ]
  },
  {
   "cell_type": "markdown",
   "metadata": {},
   "source": [
    "## Example Perceptron "
   ]
  },
  {
   "cell_type": "code",
   "execution_count": null,
   "metadata": {},
   "outputs": [],
   "source": [
    "def generate_data(self) -> None:\n",
    "        \n",
    "        \"\"\"\n",
    "        This function generates artificial data for the exercise.\n",
    "        \"\"\"\n",
    "\n",
    "        self.X = np.empty(100)\n",
    "        self.y = np.empty(100)\n",
    "        \n",
    "        for i in range(100):\n",
    "            if random.random() < 0.5:\n",
    "                self.X[i] = np.random.normal(loc=-1.25, scale=0.75)\n",
    "                self.y[i] = 0\n",
    "            else:\n",
    "                self.X[i] = np.random.normal(loc=1.25, scale=0.75)\n",
    "                self.y[i] = 1"
   ]
  }
 ],
 "metadata": {
  "kernelspec": {
   "display_name": "Python 3",
   "language": "python",
   "name": "python3"
  },
  "language_info": {
   "codemirror_mode": {
    "name": "ipython",
    "version": 3
   },
   "file_extension": ".py",
   "mimetype": "text/x-python",
   "name": "python",
   "nbconvert_exporter": "python",
   "pygments_lexer": "ipython3",
   "version": "3.11.4"
  }
 },
 "nbformat": 4,
 "nbformat_minor": 2
}
